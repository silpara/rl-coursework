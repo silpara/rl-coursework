{
 "cells": [
  {
   "cell_type": "code",
   "execution_count": 2,
   "metadata": {},
   "outputs": [
    {
     "name": "stdout",
     "output_type": "stream",
     "text": [
      "pygame 1.9.6\n",
      "Hello from the pygame community. https://www.pygame.org/contribute.html\n"
     ]
    }
   ],
   "source": [
    "from pygame.locals import *\n",
    "import pygame"
   ]
  },
  {
   "cell_type": "code",
   "execution_count": 3,
   "metadata": {},
   "outputs": [],
   "source": [
    "class Player:\n",
    "    x = 44\n",
    "    y = 44\n",
    "    speed = 1\n",
    " \n",
    "    def moveRight(self):\n",
    "        self.x = self.x + self.speed\n",
    " \n",
    "    def moveLeft(self):\n",
    "        self.x = self.x - self.speed\n",
    " \n",
    "    def moveUp(self):\n",
    "        self.y = self.y - self.speed\n",
    " \n",
    "    def moveDown(self):\n",
    "        self.y = self.y + self.speed\n",
    " \n",
    "class Maze:\n",
    "    def __init__(self):\n",
    "       self.M = 10\n",
    "       self.N = 8\n",
    "       self.maze = [ 1,1,1,1,1,1,1,1,1,1,\n",
    "                     1,0,0,0,0,0,0,0,0,1,\n",
    "                     1,0,0,0,0,0,0,0,0,1,\n",
    "                     1,0,1,1,1,1,1,1,0,1,\n",
    "                     1,0,1,0,0,0,0,0,0,1,\n",
    "                     1,0,1,0,1,1,1,1,0,1,\n",
    "                     1,0,0,0,0,0,0,0,0,1,\n",
    "                     1,1,1,1,1,1,1,1,1,1,]\n",
    "\n",
    "    def draw(self,display_surf,image_surf):\n",
    "       bx = 0\n",
    "       by = 0\n",
    "       for i in range(0,self.M*self.N):\n",
    "           if self.maze[ bx + (by*self.M) ] == 1:\n",
    "               display_surf.blit(image_surf,( bx * 44 , by * 44))\n",
    "      \n",
    "           bx = bx + 1\n",
    "           if bx > self.M-1:\n",
    "               bx = 0 \n",
    "               by = by + 1\n",
    "\n",
    "\n",
    "class App:\n",
    " \n",
    "    windowWidth = 800\n",
    "    windowHeight = 600\n",
    "    player = 0\n",
    " \n",
    "    def __init__(self):\n",
    "        self._running = True\n",
    "        self._display_surf = None\n",
    "        self._image_surf = None\n",
    "        self._block_surf = None\n",
    "        self.player = Player()\n",
    "        self.maze = Maze()\n",
    " \n",
    "    def on_init(self):\n",
    "        pygame.init()\n",
    "        self._display_surf = pygame.display.set_mode((self.windowWidth,self.windowHeight), pygame.HWSURFACE)\n",
    "        \n",
    "        pygame.display.set_caption('Pygame pythonspot.com example')\n",
    "        self._running = True\n",
    "        self._image_surf = pygame.image.load(\"player.png\").convert()\n",
    "        self._block_surf = pygame.image.load(\"block.png\").convert()\n",
    " \n",
    "    def on_event(self, event):\n",
    "        if event.type == QUIT:\n",
    "            self._running = False\n",
    " \n",
    "    def on_loop(self):\n",
    "        pass\n",
    "    \n",
    "    def on_render(self):\n",
    "        self._display_surf.fill((0,0,0))\n",
    "        self._display_surf.blit(self._image_surf,(self.player.x,self.player.y))\n",
    "        self.maze.draw(self._display_surf, self._block_surf)\n",
    "        pygame.display.flip()\n",
    " \n",
    "    def on_cleanup(self):\n",
    "        pygame.quit()\n",
    " \n",
    "    def on_execute(self):\n",
    "        if self.on_init() == False:\n",
    "            self._running = False\n",
    " \n",
    "        while( self._running ):\n",
    "            pygame.event.pump()\n",
    "            keys = pygame.key.get_pressed()\n",
    "            \n",
    "            if (keys[K_RIGHT]):\n",
    "                self.player.moveRight()\n",
    " \n",
    "            if (keys[K_LEFT]):\n",
    "                self.player.moveLeft()\n",
    " \n",
    "            if (keys[K_UP]):\n",
    "                self.player.moveUp()\n",
    " \n",
    "            if (keys[K_DOWN]):\n",
    "                self.player.moveDown()\n",
    " \n",
    "            if (keys[K_ESCAPE]):\n",
    "                self._running = False\n",
    " \n",
    "            self.on_loop()\n",
    "            self.on_render()\n",
    "        self.on_cleanup()"
   ]
  },
  {
   "cell_type": "code",
   "execution_count": 4,
   "metadata": {},
   "outputs": [],
   "source": [
    "theApp = App()"
   ]
  },
  {
   "cell_type": "code",
   "execution_count": 5,
   "metadata": {},
   "outputs": [
    {
     "ename": "error",
     "evalue": "Couldn't open player.png",
     "output_type": "error",
     "traceback": [
      "\u001b[0;31m---------------------------------------------------------------------------\u001b[0m",
      "\u001b[0;31merror\u001b[0m                                     Traceback (most recent call last)",
      "\u001b[0;32m<ipython-input-5-9518f305df00>\u001b[0m in \u001b[0;36m<module>\u001b[0;34m\u001b[0m\n\u001b[0;32m----> 1\u001b[0;31m \u001b[0mtheApp\u001b[0m\u001b[0;34m.\u001b[0m\u001b[0mon_execute\u001b[0m\u001b[0;34m(\u001b[0m\u001b[0;34m)\u001b[0m\u001b[0;34m\u001b[0m\u001b[0;34m\u001b[0m\u001b[0m\n\u001b[0m",
      "\u001b[0;32m<ipython-input-3-4640dc1161b2>\u001b[0m in \u001b[0;36mon_execute\u001b[0;34m(self)\u001b[0m\n\u001b[1;32m     82\u001b[0m \u001b[0;34m\u001b[0m\u001b[0m\n\u001b[1;32m     83\u001b[0m     \u001b[0;32mdef\u001b[0m \u001b[0mon_execute\u001b[0m\u001b[0;34m(\u001b[0m\u001b[0mself\u001b[0m\u001b[0;34m)\u001b[0m\u001b[0;34m:\u001b[0m\u001b[0;34m\u001b[0m\u001b[0;34m\u001b[0m\u001b[0m\n\u001b[0;32m---> 84\u001b[0;31m         \u001b[0;32mif\u001b[0m \u001b[0mself\u001b[0m\u001b[0;34m.\u001b[0m\u001b[0mon_init\u001b[0m\u001b[0;34m(\u001b[0m\u001b[0;34m)\u001b[0m \u001b[0;34m==\u001b[0m \u001b[0;32mFalse\u001b[0m\u001b[0;34m:\u001b[0m\u001b[0;34m\u001b[0m\u001b[0;34m\u001b[0m\u001b[0m\n\u001b[0m\u001b[1;32m     85\u001b[0m             \u001b[0mself\u001b[0m\u001b[0;34m.\u001b[0m\u001b[0m_running\u001b[0m \u001b[0;34m=\u001b[0m \u001b[0;32mFalse\u001b[0m\u001b[0;34m\u001b[0m\u001b[0;34m\u001b[0m\u001b[0m\n\u001b[1;32m     86\u001b[0m \u001b[0;34m\u001b[0m\u001b[0m\n",
      "\u001b[0;32m<ipython-input-3-4640dc1161b2>\u001b[0m in \u001b[0;36mon_init\u001b[0;34m(self)\u001b[0m\n\u001b[1;32m     62\u001b[0m         \u001b[0mpygame\u001b[0m\u001b[0;34m.\u001b[0m\u001b[0mdisplay\u001b[0m\u001b[0;34m.\u001b[0m\u001b[0mset_caption\u001b[0m\u001b[0;34m(\u001b[0m\u001b[0;34m'Pygame pythonspot.com example'\u001b[0m\u001b[0;34m)\u001b[0m\u001b[0;34m\u001b[0m\u001b[0;34m\u001b[0m\u001b[0m\n\u001b[1;32m     63\u001b[0m         \u001b[0mself\u001b[0m\u001b[0;34m.\u001b[0m\u001b[0m_running\u001b[0m \u001b[0;34m=\u001b[0m \u001b[0;32mTrue\u001b[0m\u001b[0;34m\u001b[0m\u001b[0;34m\u001b[0m\u001b[0m\n\u001b[0;32m---> 64\u001b[0;31m         \u001b[0mself\u001b[0m\u001b[0;34m.\u001b[0m\u001b[0m_image_surf\u001b[0m \u001b[0;34m=\u001b[0m \u001b[0mpygame\u001b[0m\u001b[0;34m.\u001b[0m\u001b[0mimage\u001b[0m\u001b[0;34m.\u001b[0m\u001b[0mload\u001b[0m\u001b[0;34m(\u001b[0m\u001b[0;34m\"player.png\"\u001b[0m\u001b[0;34m)\u001b[0m\u001b[0;34m.\u001b[0m\u001b[0mconvert\u001b[0m\u001b[0;34m(\u001b[0m\u001b[0;34m)\u001b[0m\u001b[0;34m\u001b[0m\u001b[0;34m\u001b[0m\u001b[0m\n\u001b[0m\u001b[1;32m     65\u001b[0m         \u001b[0mself\u001b[0m\u001b[0;34m.\u001b[0m\u001b[0m_block_surf\u001b[0m \u001b[0;34m=\u001b[0m \u001b[0mpygame\u001b[0m\u001b[0;34m.\u001b[0m\u001b[0mimage\u001b[0m\u001b[0;34m.\u001b[0m\u001b[0mload\u001b[0m\u001b[0;34m(\u001b[0m\u001b[0;34m\"block.png\"\u001b[0m\u001b[0;34m)\u001b[0m\u001b[0;34m.\u001b[0m\u001b[0mconvert\u001b[0m\u001b[0;34m(\u001b[0m\u001b[0;34m)\u001b[0m\u001b[0;34m\u001b[0m\u001b[0;34m\u001b[0m\u001b[0m\n\u001b[1;32m     66\u001b[0m \u001b[0;34m\u001b[0m\u001b[0m\n",
      "\u001b[0;31merror\u001b[0m: Couldn't open player.png"
     ]
    }
   ],
   "source": [
    "theApp.on_execute()"
   ]
  },
  {
   "cell_type": "code",
   "execution_count": null,
   "metadata": {},
   "outputs": [],
   "source": []
  }
 ],
 "metadata": {
  "kernelspec": {
   "display_name": "Python 3",
   "language": "python",
   "name": "python3"
  },
  "language_info": {
   "codemirror_mode": {
    "name": "ipython",
    "version": 3
   },
   "file_extension": ".py",
   "mimetype": "text/x-python",
   "name": "python",
   "nbconvert_exporter": "python",
   "pygments_lexer": "ipython3",
   "version": "3.7.4"
  }
 },
 "nbformat": 4,
 "nbformat_minor": 2
}
