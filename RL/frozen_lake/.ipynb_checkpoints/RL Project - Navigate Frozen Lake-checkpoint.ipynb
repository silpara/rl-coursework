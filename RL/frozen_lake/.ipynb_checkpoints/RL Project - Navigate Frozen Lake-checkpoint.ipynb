{
 "cells": [
  {
   "cell_type": "markdown",
   "metadata": {},
   "source": [
    "| | | | |\n",
    "|-|-|-|-|\n",
    "|S|F|F|F|\n",
    "|F|H|F|H|\n",
    "|F|F|F|H|\n",
    "|H|F|F|G|"
   ]
  },
  {
   "cell_type": "code",
   "execution_count": 8,
   "metadata": {},
   "outputs": [],
   "source": [
    "import numpy as np\n",
    "import gym\n",
    "import time\n",
    "from IPython.display import clear_output\n",
    "import matplotlib.pyplot as plt"
   ]
  },
  {
   "cell_type": "code",
   "execution_count": 9,
   "metadata": {},
   "outputs": [],
   "source": [
    "seed = 1234\n",
    "np.random.seed(seed)\n",
    "NUM_EPISODES = 10000\n",
    "STEPS_PER_EPISODE = 100\n",
    "LR = 0.4"
   ]
  },
  {
   "cell_type": "code",
   "execution_count": 10,
   "metadata": {},
   "outputs": [],
   "source": [
    "env = gym.make(\"FrozenLake-v0\")"
   ]
  },
  {
   "cell_type": "code",
   "execution_count": 11,
   "metadata": {},
   "outputs": [],
   "source": [
    "action_space_size = env.action_space.n\n",
    "state_space_size = env.observation_space.n"
   ]
  },
  {
   "cell_type": "markdown",
   "metadata": {},
   "source": [
    "### SARSA"
   ]
  },
  {
   "cell_type": "code",
   "execution_count": 12,
   "metadata": {},
   "outputs": [
    {
     "name": "stdout",
     "output_type": "stream",
     "text": [
      "[[0. 0. 0. 0.]\n",
      " [0. 0. 0. 0.]\n",
      " [0. 0. 0. 0.]\n",
      " [0. 0. 0. 0.]\n",
      " [0. 0. 0. 0.]\n",
      " [0. 0. 0. 0.]\n",
      " [0. 0. 0. 0.]\n",
      " [0. 0. 0. 0.]\n",
      " [0. 0. 0. 0.]\n",
      " [0. 0. 0. 0.]\n",
      " [0. 0. 0. 0.]\n",
      " [0. 0. 0. 0.]\n",
      " [0. 0. 0. 0.]\n",
      " [0. 0. 0. 0.]\n",
      " [0. 0. 0. 0.]\n",
      " [0. 0. 0. 0.]]\n"
     ]
    }
   ],
   "source": [
    "q_table = np.zeros((state_space_size, action_space_size))\n",
    "print(q_table)"
   ]
  },
  {
   "cell_type": "code",
   "execution_count": 13,
   "metadata": {},
   "outputs": [],
   "source": [
    "num_episodes = NUM_EPISODES\n",
    "max_steps_per_episode = STEPS_PER_EPISODE\n",
    "\n",
    "learning_rate = LR\n",
    "discount_rate = 0.99\n",
    "\n",
    "exploration_rate = 1\n",
    "max_exploration_rate = 1\n",
    "min_exploration_rate = 0.01\n",
    "exploration_decay_rate = 0.01\n",
    "\n",
    "rewards_all_episodes = []"
   ]
  },
  {
   "cell_type": "code",
   "execution_count": 14,
   "metadata": {
    "scrolled": true
   },
   "outputs": [
    {
     "name": "stdout",
     "output_type": "stream",
     "text": [
      "Running average of episodes 1-100: 0.01\n",
      "Running average of episodes 101-200: 0.04\n",
      "Running average of episodes 201-300: 0.05\n",
      "Running average of episodes 301-400: 0.26\n",
      "Running average of episodes 401-500: 0.31\n",
      "Running average of episodes 501-600: 0.47\n",
      "Running average of episodes 601-700: 0.58\n",
      "Running average of episodes 701-800: 0.57\n",
      "Running average of episodes 801-900: 0.74\n",
      "Running average of episodes 901-1000: 0.56\n",
      "Running average of episodes 1001-1100: 0.68\n",
      "Running average of episodes 1101-1200: 0.67\n",
      "Running average of episodes 1201-1300: 0.66\n",
      "Running average of episodes 1301-1400: 0.65\n",
      "Running average of episodes 1401-1500: 0.52\n",
      "Running average of episodes 1501-1600: 0.43\n",
      "Running average of episodes 1601-1700: 0.45\n",
      "Running average of episodes 1701-1800: 0.54\n",
      "Running average of episodes 1801-1900: 0.64\n",
      "Running average of episodes 1901-2000: 0.74\n",
      "Running average of episodes 2001-2100: 0.71\n",
      "Running average of episodes 2101-2200: 0.67\n",
      "Running average of episodes 2201-2300: 0.58\n",
      "Running average of episodes 2301-2400: 0.56\n",
      "Running average of episodes 2401-2500: 0.63\n",
      "Running average of episodes 2501-2600: 0.62\n",
      "Running average of episodes 2601-2700: 0.68\n",
      "Running average of episodes 2701-2800: 0.55\n",
      "Running average of episodes 2801-2900: 0.63\n",
      "Running average of episodes 2901-3000: 0.68\n",
      "Running average of episodes 3001-3100: 0.68\n",
      "Running average of episodes 3101-3200: 0.51\n",
      "Running average of episodes 3201-3300: 0.67\n",
      "Running average of episodes 3301-3400: 0.52\n",
      "Running average of episodes 3401-3500: 0.62\n",
      "Running average of episodes 3501-3600: 0.57\n",
      "Running average of episodes 3601-3700: 0.59\n",
      "Running average of episodes 3701-3800: 0.68\n",
      "Running average of episodes 3801-3900: 0.52\n",
      "Running average of episodes 3901-4000: 0.71\n",
      "Running average of episodes 4001-4100: 0.56\n",
      "Running average of episodes 4101-4200: 0.62\n",
      "Running average of episodes 4201-4300: 0.53\n",
      "Running average of episodes 4301-4400: 0.56\n",
      "Running average of episodes 4401-4500: 0.64\n",
      "Running average of episodes 4501-4600: 0.74\n",
      "Running average of episodes 4601-4700: 0.6\n",
      "Running average of episodes 4701-4800: 0.55\n",
      "Running average of episodes 4801-4900: 0.67\n",
      "Running average of episodes 4901-5000: 0.45\n",
      "Running average of episodes 5001-5100: 0.67\n",
      "Running average of episodes 5101-5200: 0.67\n",
      "Running average of episodes 5201-5300: 0.58\n",
      "Running average of episodes 5301-5400: 0.61\n",
      "Running average of episodes 5401-5500: 0.69\n",
      "Running average of episodes 5501-5600: 0.71\n",
      "Running average of episodes 5601-5700: 0.62\n",
      "Running average of episodes 5701-5800: 0.59\n",
      "Running average of episodes 5801-5900: 0.49\n",
      "Running average of episodes 5901-6000: 0.38\n",
      "Running average of episodes 6001-6100: 0.57\n",
      "Running average of episodes 6101-6200: 0.68\n",
      "Running average of episodes 6201-6300: 0.52\n",
      "Running average of episodes 6301-6400: 0.68\n",
      "Running average of episodes 6401-6500: 0.56\n",
      "Running average of episodes 6501-6600: 0.76\n",
      "Running average of episodes 6601-6700: 0.48\n",
      "Running average of episodes 6701-6800: 0.69\n",
      "Running average of episodes 6801-6900: 0.55\n",
      "Running average of episodes 6901-7000: 0.47\n",
      "Running average of episodes 7001-7100: 0.66\n",
      "Running average of episodes 7101-7200: 0.65\n",
      "Running average of episodes 7201-7300: 0.45\n",
      "Running average of episodes 7301-7400: 0.61\n",
      "Running average of episodes 7401-7500: 0.69\n",
      "Running average of episodes 7501-7600: 0.65\n",
      "Running average of episodes 7601-7700: 0.57\n",
      "Running average of episodes 7701-7800: 0.56\n",
      "Running average of episodes 7801-7900: 0.6\n",
      "Running average of episodes 7901-8000: 0.72\n",
      "Running average of episodes 8001-8100: 0.55\n",
      "Running average of episodes 8101-8200: 0.64\n",
      "Running average of episodes 8201-8300: 0.69\n",
      "Running average of episodes 8301-8400: 0.66\n",
      "Running average of episodes 8401-8500: 0.59\n",
      "Running average of episodes 8501-8600: 0.61\n",
      "Running average of episodes 8601-8700: 0.62\n",
      "Running average of episodes 8701-8800: 0.73\n",
      "Running average of episodes 8801-8900: 0.68\n",
      "Running average of episodes 8901-9000: 0.55\n",
      "Running average of episodes 9001-9100: 0.55\n",
      "Running average of episodes 9101-9200: 0.54\n",
      "Running average of episodes 9201-9300: 0.53\n",
      "Running average of episodes 9301-9400: 0.5\n",
      "Running average of episodes 9401-9500: 0.51\n",
      "Running average of episodes 9501-9600: 0.66\n",
      "Running average of episodes 9601-9700: 0.58\n",
      "Running average of episodes 9701-9800: 0.51\n",
      "Running average of episodes 9801-9900: 0.54\n",
      "Running average of episodes 9901-10000: 0.68\n",
      "********Average reward per thousand episodes********\n",
      "\n"
     ]
    }
   ],
   "source": [
    "for episode in range(num_episodes):\n",
    "    state = env.reset()\n",
    "    exploration_rate_threshold = np.random.uniform(0, 1)\n",
    "    if exploration_rate_threshold > exploration_rate:\n",
    "        action = np.argmax(q_table[state, :])\n",
    "    else:\n",
    "        action = env.action_space.sample()\n",
    "    done = False\n",
    "    rewards_current_episode = 0\n",
    "    while not done:\n",
    "        next_state, reward, done, info = env.step(action)\n",
    "        exploration_rate_threshold = np.random.uniform(0, 1)\n",
    "        if exploration_rate_threshold > exploration_rate:\n",
    "            next_action = np.argmax(q_table[next_state, :])\n",
    "        else:\n",
    "            next_action = env.action_space.sample()\n",
    "        q_table[state, action] = q_table[state, action] + learning_rate*(reward + discount_rate*q_table[next_state, next_action] - q_table[state, action])\n",
    "        rewards_current_episode = rewards_current_episode + reward\n",
    "        if done:\n",
    "            break\n",
    "        state, action = next_state, next_action\n",
    "    exploration_rate = min_exploration_rate + (max_exploration_rate - min_exploration_rate)*np.exp(-exploration_decay_rate*episode)\n",
    "    rewards_all_episodes.append(rewards_current_episode)\n",
    "    if (episode+1) % 100 == 0:\n",
    "        print(\"Running average of episodes {}-{}: {}\".format(episode-98,episode+1,np.mean(rewards_all_episodes[-100:])))\n",
    "# Calculate and print the average reward per thousand episodes\n",
    "rewards_per_thosand_episodes = np.split(np.array(rewards_all_episodes),num_episodes/1000)\n",
    "count = 1000\n",
    "\n",
    "print(\"********Average reward per thousand episodes********\\n\")\n",
    "episode_steps, reward_steps = [], []\n",
    "for r in rewards_per_thosand_episodes:\n",
    "#     print(count, \": \", str(sum(r/1000)))\n",
    "    episode_steps.append(count)\n",
    "    reward_steps.append(sum(r/1000))\n",
    "    count += 1000"
   ]
  },
  {
   "cell_type": "code",
   "execution_count": 15,
   "metadata": {},
   "outputs": [
    {
     "name": "stdout",
     "output_type": "stream",
     "text": [
      "[1.0, 1.0, 1.0, 1.0, 1.0, 0.0, 0.0, 1.0, 0.0, 1.0]\n",
      "0.01\n"
     ]
    }
   ],
   "source": [
    "print(rewards_all_episodes[-10:])\n",
    "print(exploration_rate)"
   ]
  },
  {
   "cell_type": "code",
   "execution_count": 16,
   "metadata": {},
   "outputs": [
    {
     "data": {
      "text/plain": [
       "[<matplotlib.lines.Line2D at 0x1a13fee650>]"
      ]
     },
     "execution_count": 16,
     "metadata": {},
     "output_type": "execute_result"
    },
    {
     "data": {
      "image/png": "[encoded data removed]",
      "text/plain": [
       "<Figure size 432x288 with 1 Axes>"
      ]
     },
     "metadata": {
      "needs_background": "light"
     },
     "output_type": "display_data"
    }
   ],
   "source": [
    "plt.plot(episode_steps, reward_steps)"
   ]
  },
  {
   "cell_type": "code",
   "execution_count": 17,
   "metadata": {},
   "outputs": [
    {
     "name": "stdout",
     "output_type": "stream",
     "text": [
      "\n",
      "\n",
      "********Q-table********\n",
      "\n",
      "[[0.46913008 0.34606828 0.44521944 0.37421482]\n",
      " [0.17139858 0.10764296 0.20210832 0.46966727]\n",
      " [0.24497169 0.20025947 0.25034379 0.40682374]\n",
      " [0.23456189 0.17064975 0.14947419 0.35162542]\n",
      " [0.49606213 0.35387334 0.17318465 0.3347752 ]\n",
      " [0.         0.         0.         0.        ]\n",
      " [0.02180803 0.0100971  0.2280241  0.02473127]\n",
      " [0.         0.         0.         0.        ]\n",
      " [0.21552075 0.21505401 0.24295256 0.57613641]\n",
      " [0.2879654  0.70541255 0.2996116  0.42317482]\n",
      " [0.49070301 0.11148765 0.05410159 0.15692666]\n",
      " [0.         0.         0.         0.        ]\n",
      " [0.         0.         0.         0.        ]\n",
      " [0.19367207 0.25495964 0.84596359 0.40188096]\n",
      " [0.42704518 0.96712245 0.45429982 0.5037762 ]\n",
      " [0.         0.         0.         0.        ]]\n"
     ]
    }
   ],
   "source": [
    "# Print updated Q-table\n",
    "print(\"\\n\\n********Q-table********\\n\")\n",
    "print(q_table)"
   ]
  },
  {
   "cell_type": "markdown",
   "metadata": {},
   "source": [
    "### Q-Learning"
   ]
  },
  {
   "cell_type": "code",
   "execution_count": 23,
   "metadata": {},
   "outputs": [],
   "source": [
    "np.random.seed(seed)"
   ]
  },
  {
   "cell_type": "code",
   "execution_count": 24,
   "metadata": {},
   "outputs": [
    {
     "name": "stdout",
     "output_type": "stream",
     "text": [
      "[[0. 0. 0. 0.]\n",
      " [0. 0. 0. 0.]\n",
      " [0. 0. 0. 0.]\n",
      " [0. 0. 0. 0.]\n",
      " [0. 0. 0. 0.]\n",
      " [0. 0. 0. 0.]\n",
      " [0. 0. 0. 0.]\n",
      " [0. 0. 0. 0.]\n",
      " [0. 0. 0. 0.]\n",
      " [0. 0. 0. 0.]\n",
      " [0. 0. 0. 0.]\n",
      " [0. 0. 0. 0.]\n",
      " [0. 0. 0. 0.]\n",
      " [0. 0. 0. 0.]\n",
      " [0. 0. 0. 0.]\n",
      " [0. 0. 0. 0.]]\n"
     ]
    }
   ],
   "source": [
    "q_table = np.zeros((state_space_size, action_space_size))\n",
    "print(q_table)"
   ]
  },
  {
   "cell_type": "code",
   "execution_count": 25,
   "metadata": {},
   "outputs": [],
   "source": [
    "num_episodes = NUM_EPISODES\n",
    "max_steps_per_episode = STEPS_PER_EPISODE\n",
    "learning_rate = LR\n",
    "discount_rate = 0.99\n",
    "\n",
    "exploration_rate = 1\n",
    "max_exploration_rate = 1\n",
    "min_exploration_rate = 0.001\n",
    "exploration_decay_rate = 0.01"
   ]
  },
  {
   "cell_type": "code",
   "execution_count": 26,
   "metadata": {},
   "outputs": [],
   "source": [
    "rewards_all_episodes = []"
   ]
  },
  {
   "cell_type": "code",
   "execution_count": 27,
   "metadata": {
    "scrolled": true
   },
   "outputs": [
    {
     "name": "stdout",
     "output_type": "stream",
     "text": [
      "Running average of episodes 1-100: 0.05\n",
      "Running average of episodes 101-200: 0.16\n",
      "Running average of episodes 201-300: 0.41\n",
      "Running average of episodes 301-400: 0.6\n",
      "Running average of episodes 401-500: 0.71\n",
      "Running average of episodes 501-600: 0.51\n",
      "Running average of episodes 601-700: 0.73\n",
      "Running average of episodes 701-800: 0.66\n",
      "Running average of episodes 801-900: 0.76\n",
      "Running average of episodes 901-1000: 0.75\n",
      "Running average of episodes 1001-1100: 0.72\n",
      "Running average of episodes 1101-1200: 0.63\n",
      "Running average of episodes 1201-1300: 0.71\n",
      "Running average of episodes 1301-1400: 0.68\n",
      "Running average of episodes 1401-1500: 0.75\n",
      "Running average of episodes 1501-1600: 0.73\n",
      "Running average of episodes 1601-1700: 0.74\n",
      "Running average of episodes 1701-1800: 0.74\n",
      "Running average of episodes 1801-1900: 0.61\n",
      "Running average of episodes 1901-2000: 0.56\n",
      "Running average of episodes 2001-2100: 0.69\n",
      "Running average of episodes 2101-2200: 0.71\n",
      "Running average of episodes 2201-2300: 0.74\n",
      "Running average of episodes 2301-2400: 0.72\n",
      "Running average of episodes 2401-2500: 0.71\n",
      "Running average of episodes 2501-2600: 0.71\n",
      "Running average of episodes 2601-2700: 0.6\n",
      "Running average of episodes 2701-2800: 0.73\n",
      "Running average of episodes 2801-2900: 0.68\n",
      "Running average of episodes 2901-3000: 0.78\n",
      "Running average of episodes 3001-3100: 0.71\n",
      "Running average of episodes 3101-3200: 0.69\n",
      "Running average of episodes 3201-3300: 0.72\n",
      "Running average of episodes 3301-3400: 0.75\n",
      "Running average of episodes 3401-3500: 0.74\n",
      "Running average of episodes 3501-3600: 0.73\n",
      "Running average of episodes 3601-3700: 0.79\n",
      "Running average of episodes 3701-3800: 0.72\n",
      "Running average of episodes 3801-3900: 0.73\n",
      "Running average of episodes 3901-4000: 0.83\n",
      "Running average of episodes 4001-4100: 0.54\n",
      "Running average of episodes 4101-4200: 0.65\n",
      "Running average of episodes 4201-4300: 0.71\n",
      "Running average of episodes 4301-4400: 0.71\n",
      "Running average of episodes 4401-4500: 0.59\n",
      "Running average of episodes 4501-4600: 0.76\n",
      "Running average of episodes 4601-4700: 0.64\n",
      "Running average of episodes 4701-4800: 0.58\n",
      "Running average of episodes 4801-4900: 0.75\n",
      "Running average of episodes 4901-5000: 0.78\n",
      "Running average of episodes 5001-5100: 0.65\n",
      "Running average of episodes 5101-5200: 0.68\n",
      "Running average of episodes 5201-5300: 0.64\n",
      "Running average of episodes 5301-5400: 0.69\n",
      "Running average of episodes 5401-5500: 0.78\n",
      "Running average of episodes 5501-5600: 0.64\n",
      "Running average of episodes 5601-5700: 0.7\n",
      "Running average of episodes 5701-5800: 0.75\n",
      "Running average of episodes 5801-5900: 0.74\n",
      "Running average of episodes 5901-6000: 0.67\n",
      "Running average of episodes 6001-6100: 0.71\n",
      "Running average of episodes 6101-6200: 0.68\n",
      "Running average of episodes 6201-6300: 0.72\n",
      "Running average of episodes 6301-6400: 0.74\n",
      "Running average of episodes 6401-6500: 0.71\n",
      "Running average of episodes 6501-6600: 0.72\n",
      "Running average of episodes 6601-6700: 0.78\n",
      "Running average of episodes 6701-6800: 0.73\n",
      "Running average of episodes 6801-6900: 0.75\n",
      "Running average of episodes 6901-7000: 0.64\n",
      "Running average of episodes 7001-7100: 0.7\n",
      "Running average of episodes 7101-7200: 0.69\n",
      "Running average of episodes 7201-7300: 0.71\n",
      "Running average of episodes 7301-7400: 0.74\n",
      "Running average of episodes 7401-7500: 0.68\n",
      "Running average of episodes 7501-7600: 0.77\n",
      "Running average of episodes 7601-7700: 0.74\n",
      "Running average of episodes 7701-7800: 0.68\n",
      "Running average of episodes 7801-7900: 0.67\n",
      "Running average of episodes 7901-8000: 0.72\n",
      "Running average of episodes 8001-8100: 0.76\n",
      "Running average of episodes 8101-8200: 0.78\n",
      "Running average of episodes 8201-8300: 0.72\n",
      "Running average of episodes 8301-8400: 0.7\n",
      "Running average of episodes 8401-8500: 0.68\n",
      "Running average of episodes 8501-8600: 0.7\n",
      "Running average of episodes 8601-8700: 0.78\n",
      "Running average of episodes 8701-8800: 0.71\n",
      "Running average of episodes 8801-8900: 0.68\n",
      "Running average of episodes 8901-9000: 0.72\n",
      "Running average of episodes 9001-9100: 0.69\n",
      "Running average of episodes 9101-9200: 0.73\n",
      "Running average of episodes 9201-9300: 0.74\n",
      "Running average of episodes 9301-9400: 0.63\n",
      "Running average of episodes 9401-9500: 0.74\n",
      "Running average of episodes 9501-9600: 0.63\n",
      "Running average of episodes 9601-9700: 0.62\n",
      "Running average of episodes 9701-9800: 0.71\n",
      "Running average of episodes 9801-9900: 0.65\n",
      "Running average of episodes 9901-10000: 0.76\n",
      "********Plot Average reward per thousand episodes********\n",
      "\n"
     ]
    }
   ],
   "source": [
    "for episode in range(num_episodes):\n",
    "    state = env.reset()\n",
    "    done = False\n",
    "    rewards_current_episode = 0\n",
    "\n",
    "    for step in range(max_steps_per_episode): \n",
    "\n",
    "        # Exploration-exploitation trade-off\n",
    "        exploration_rate_threshold = np.random.uniform(0, 1)\n",
    "        if exploration_rate_threshold > exploration_rate:\n",
    "            action = np.argmax(q_table[state,:]) \n",
    "        else:\n",
    "            action = env.action_space.sample()\n",
    "        new_state, reward, done, info = env.step(action)\n",
    "        q_table[state, action] = q_table[state, action] * (1 - learning_rate) + \\\n",
    "        learning_rate * (reward + discount_rate * np.max(q_table[new_state, :]))\n",
    "        state = new_state\n",
    "        rewards_current_episode += reward \n",
    "        if done == True: \n",
    "            break\n",
    "    exploration_rate = min_exploration_rate + (max_exploration_rate - min_exploration_rate) * np.exp(-exploration_decay_rate*episode)\n",
    "    rewards_all_episodes.append(rewards_current_episode)\n",
    "    if (episode+1) % 100 == 0:\n",
    "        print(\"Running average of episodes {}-{}: {}\".format(episode-98,episode+1,np.mean(rewards_all_episodes[-100:])))\n",
    "\n",
    "# Calculate and print the average reward per thousand episodes\n",
    "rewards_per_thosand_episodes = np.split(np.array(rewards_all_episodes),num_episodes/1000)\n",
    "count = 1000\n",
    "\n",
    "print(\"********Plot Average reward per thousand episodes********\\n\")\n",
    "episode_steps, reward_steps = [], []\n",
    "for r in rewards_per_thosand_episodes:\n",
    "#     print(count, \": \", str(sum(r/1000)))\n",
    "    episode_steps.append(count)\n",
    "    reward_steps.append(sum(r/1000))\n",
    "    count += 1000"
   ]
  },
  {
   "cell_type": "code",
   "execution_count": 28,
   "metadata": {},
   "outputs": [
    {
     "data": {
      "text/plain": [
       "[<matplotlib.lines.Line2D at 0x1a1407fd90>]"
      ]
     },
     "execution_count": 28,
     "metadata": {},
     "output_type": "execute_result"
    },
    {
     "data": {
      "image/png": "[encoded data removed]",
      "text/plain": [
       "<Figure size 432x288 with 1 Axes>"
      ]
     },
     "metadata": {
      "needs_background": "light"
     },
     "output_type": "display_data"
    }
   ],
   "source": [
    "plt.plot(episode_steps, reward_steps)"
   ]
  },
  {
   "cell_type": "code",
   "execution_count": 29,
   "metadata": {},
   "outputs": [
    {
     "name": "stdout",
     "output_type": "stream",
     "text": [
      "[1.0, 0.0, 1.0, 0.0, 0.0, 1.0, 1.0, 0.0, 1.0, 1.0]\n",
      "0.001\n"
     ]
    }
   ],
   "source": [
    "print(rewards_all_episodes[-10:])\n",
    "print(exploration_rate)"
   ]
  },
  {
   "cell_type": "code",
   "execution_count": 30,
   "metadata": {},
   "outputs": [
    {
     "name": "stdout",
     "output_type": "stream",
     "text": [
      "\n",
      "\n",
      "********Q-table********\n",
      "\n",
      "[[0.49625159 0.34947347 0.30842623 0.3454806 ]\n",
      " [0.09952326 0.182467   0.09343261 0.47204438]\n",
      " [0.25154794 0.06489636 0.14956516 0.04748864]\n",
      " [0.01602401 0.00795698 0.00315097 0.00624169]\n",
      " [0.51161644 0.13447627 0.22784654 0.23579358]\n",
      " [0.         0.         0.         0.        ]\n",
      " [0.0099429  0.00918508 0.35170219 0.00806542]\n",
      " [0.         0.         0.         0.        ]\n",
      " [0.09347251 0.40339509 0.07890132 0.54534762]\n",
      " [0.17907502 0.61630765 0.12723219 0.13207955]\n",
      " [0.51487662 0.0284117  0.08912209 0.06598001]\n",
      " [0.         0.         0.         0.        ]\n",
      " [0.         0.         0.         0.        ]\n",
      " [0.12326569 0.41930235 0.66654923 0.2977561 ]\n",
      " [0.54835348 0.80767184 0.50323505 0.47346142]\n",
      " [0.         0.         0.         0.        ]]\n"
     ]
    }
   ],
   "source": [
    "# Print updated Q-table\n",
    "print(\"\\n\\n********Q-table********\\n\")\n",
    "print(q_table)"
   ]
  },
  {
   "cell_type": "code",
   "execution_count": null,
   "metadata": {},
   "outputs": [],
   "source": [
    "def play():\n",
    "    for episode in range(3):\n",
    "        state = env.reset()\n",
    "        done = False\n",
    "        print(\"*****EPISODE \", episode+1, \"*****\\n\\n\\n\\n\")\n",
    "        time.sleep(1)\n",
    "        for step in range(max_steps_per_episode):        \n",
    "            clear_output(wait=True)\n",
    "            env.render()\n",
    "            time.sleep(0.3)\n",
    "            action = np.argmax(q_table[state,:])        \n",
    "            new_state, reward, done, info = env.step(action)\n",
    "            if done:\n",
    "                clear_output(wait=True)\n",
    "                env.render()\n",
    "                if reward == 1:\n",
    "                    print(\"****You reached the goal!****\")\n",
    "                    time.sleep(3)\n",
    "                else:\n",
    "                    print(\"****You fell through a hole!****\")\n",
    "                    time.sleep(3)\n",
    "                    clear_output(wait=True)\n",
    "                break\n",
    "            state = new_state\n",
    "        env.close()"
   ]
  },
  {
   "cell_type": "markdown",
   "metadata": {},
   "source": [
    "### Expected SARSA"
   ]
  },
  {
   "cell_type": "code",
   "execution_count": 66,
   "metadata": {
    "scrolled": true
   },
   "outputs": [
    {
     "name": "stdout",
     "output_type": "stream",
     "text": [
      "[[0. 0. 0. 0.]\n",
      " [0. 0. 0. 0.]\n",
      " [0. 0. 0. 0.]\n",
      " [0. 0. 0. 0.]\n",
      " [0. 0. 0. 0.]\n",
      " [0. 0. 0. 0.]\n",
      " [0. 0. 0. 0.]\n",
      " [0. 0. 0. 0.]\n",
      " [0. 0. 0. 0.]\n",
      " [0. 0. 0. 0.]\n",
      " [0. 0. 0. 0.]\n",
      " [0. 0. 0. 0.]\n",
      " [0. 0. 0. 0.]\n",
      " [0. 0. 0. 0.]\n",
      " [0. 0. 0. 0.]\n",
      " [0. 0. 0. 0.]]\n",
      "Running average of episodes 1-100: 0.01\n",
      "Running average of episodes 101-200: 0.04\n",
      "Running average of episodes 201-300: 0.06\n",
      "Running average of episodes 301-400: 0.08\n",
      "Running average of episodes 401-500: 0.1\n",
      "Running average of episodes 501-600: 0.11\n",
      "Running average of episodes 601-700: 0.19\n",
      "Running average of episodes 701-800: 0.04\n",
      "Running average of episodes 801-900: 0.1\n",
      "Running average of episodes 901-1000: 0.09\n",
      "Running average of episodes 1001-1100: 0.14\n",
      "Running average of episodes 1101-1200: 0.17\n",
      "Running average of episodes 1201-1300: 0.12\n",
      "Running average of episodes 1301-1400: 0.18\n",
      "Running average of episodes 1401-1500: 0.2\n",
      "Running average of episodes 1501-1600: 0.22\n",
      "Running average of episodes 1601-1700: 0.22\n",
      "Running average of episodes 1701-1800: 0.2\n",
      "Running average of episodes 1801-1900: 0.12\n",
      "Running average of episodes 1901-2000: 0.13\n",
      "Running average of episodes 2001-2100: 0.11\n",
      "Running average of episodes 2101-2200: 0.05\n",
      "Running average of episodes 2201-2300: 0.1\n",
      "Running average of episodes 2301-2400: 0.06\n",
      "Running average of episodes 2401-2500: 0.06\n",
      "Running average of episodes 2501-2600: 0.23\n",
      "Running average of episodes 2601-2700: 0.22\n",
      "Running average of episodes 2701-2800: 0.27\n",
      "Running average of episodes 2801-2900: 0.22\n",
      "Running average of episodes 2901-3000: 0.32\n",
      "Running average of episodes 3001-3100: 0.24\n",
      "Running average of episodes 3101-3200: 0.23\n",
      "Running average of episodes 3201-3300: 0.22\n",
      "Running average of episodes 3301-3400: 0.29\n",
      "Running average of episodes 3401-3500: 0.49\n",
      "Running average of episodes 3501-3600: 0.4\n",
      "Running average of episodes 3601-3700: 0.12\n",
      "Running average of episodes 3701-3800: 0.19\n",
      "Running average of episodes 3801-3900: 0.15\n",
      "Running average of episodes 3901-4000: 0.08\n",
      "Running average of episodes 4001-4100: 0.29\n",
      "Running average of episodes 4101-4200: 0.23\n",
      "Running average of episodes 4201-4300: 0.43\n",
      "Running average of episodes 4301-4400: 0.4\n",
      "Running average of episodes 4401-4500: 0.36\n",
      "Running average of episodes 4501-4600: 0.17\n",
      "Running average of episodes 4601-4700: 0.13\n",
      "Running average of episodes 4701-4800: 0.19\n",
      "Running average of episodes 4801-4900: 0.16\n",
      "Running average of episodes 4901-5000: 0.36\n",
      "Running average of episodes 5001-5100: 0.26\n",
      "Running average of episodes 5101-5200: 0.21\n",
      "Running average of episodes 5201-5300: 0.2\n",
      "Running average of episodes 5301-5400: 0.16\n",
      "Running average of episodes 5401-5500: 0.13\n",
      "Running average of episodes 5501-5600: 0.16\n",
      "Running average of episodes 5601-5700: 0.18\n",
      "Running average of episodes 5701-5800: 0.1\n",
      "Running average of episodes 5801-5900: 0.12\n",
      "Running average of episodes 5901-6000: 0.14\n",
      "Running average of episodes 6001-6100: 0.13\n",
      "Running average of episodes 6101-6200: 0.07\n",
      "Running average of episodes 6201-6300: 0.18\n",
      "Running average of episodes 6301-6400: 0.12\n",
      "Running average of episodes 6401-6500: 0.25\n",
      "Running average of episodes 6501-6600: 0.33\n",
      "Running average of episodes 6601-6700: 0.16\n",
      "Running average of episodes 6701-6800: 0.31\n",
      "Running average of episodes 6801-6900: 0.18\n",
      "Running average of episodes 6901-7000: 0.18\n",
      "Running average of episodes 7001-7100: 0.09\n",
      "Running average of episodes 7101-7200: 0.14\n",
      "Running average of episodes 7201-7300: 0.11\n",
      "Running average of episodes 7301-7400: 0.18\n",
      "Running average of episodes 7401-7500: 0.26\n",
      "Running average of episodes 7501-7600: 0.3\n",
      "Running average of episodes 7601-7700: 0.24\n",
      "Running average of episodes 7701-7800: 0.53\n",
      "Running average of episodes 7801-7900: 0.46\n",
      "Running average of episodes 7901-8000: 0.41\n",
      "Running average of episodes 8001-8100: 0.11\n",
      "Running average of episodes 8101-8200: 0.11\n",
      "Running average of episodes 8201-8300: 0.35\n",
      "Running average of episodes 8301-8400: 0.28\n",
      "Running average of episodes 8401-8500: 0.18\n",
      "Running average of episodes 8501-8600: 0.24\n",
      "Running average of episodes 8601-8700: 0.1\n",
      "Running average of episodes 8701-8800: 0.24\n",
      "Running average of episodes 8801-8900: 0.15\n",
      "Running average of episodes 8901-9000: 0.13\n",
      "Running average of episodes 9001-9100: 0.17\n",
      "Running average of episodes 9101-9200: 0.24\n",
      "Running average of episodes 9201-9300: 0.26\n",
      "Running average of episodes 9301-9400: 0.27\n",
      "Running average of episodes 9401-9500: 0.29\n",
      "Running average of episodes 9501-9600: 0.25\n",
      "Running average of episodes 9601-9700: 0.27\n",
      "Running average of episodes 9701-9800: 0.16\n",
      "Running average of episodes 9801-9900: 0.15\n",
      "Running average of episodes 9901-10000: 0.21\n",
      "********Plot Average reward per thousand episodes********\n",
      "\n"
     ]
    }
   ],
   "source": [
    "np.random.seed(seed)\n",
    "\n",
    "q_table = np.zeros((state_space_size, action_space_size))\n",
    "print(q_table)\n",
    "\n",
    "num_episodes = NUM_EPISODES\n",
    "max_steps_per_episode = STEPS_PER_EPISODE\n",
    "\n",
    "learning_rate = LR\n",
    "discount_rate = 0.99\n",
    "\n",
    "exploration_rate = 1\n",
    "max_exploration_rate = 1\n",
    "min_exploration_rate = 0.001\n",
    "exploration_decay_rate = 0.01\n",
    "\n",
    "rewards_all_episodes = []\n",
    "\n",
    "for episode in range(num_episodes):\n",
    "    state = env.reset()\n",
    "    exploration_rate_threshold = np.random.uniform(0, 1)\n",
    "    if exploration_rate_threshold > exploration_rate:\n",
    "        action = np.argmax(q_table[state, :])\n",
    "    else:\n",
    "        action = env.action_space.sample()\n",
    "    done = False\n",
    "    rewards_current_episode = 0\n",
    "    for step in range(max_steps_per_episode):\n",
    "        next_state, reward, done, info = env.step(action)\n",
    "        exploration_rate_threshold = np.random.uniform(0, 1)\n",
    "        if exploration_rate_threshold > exploration_rate:\n",
    "            next_action = np.argmax(q_table[next_state, :])\n",
    "        else:\n",
    "            next_action = env.action_space.sample()\n",
    "        q_table[state, action] = q_table[state, action] + \\\n",
    "        learning_rate*(reward + discount_rate*np.mean(q_table[next_state, :]) - q_table[state, action])\n",
    "        rewards_current_episode = rewards_current_episode + reward\n",
    "        if done:\n",
    "            break\n",
    "        state, action = next_state, next_action\n",
    "    exploration_rate = min_exploration_rate + \\\n",
    "    (max_exploration_rate - min_exploration_rate)*np.exp(-exploration_decay_rate*episode)\n",
    "    rewards_all_episodes.append(rewards_current_episode)\n",
    "    if (episode+1) % 100 == 0:\n",
    "        print(\"Running average of episodes {}-{}: {}\".format(episode-98,episode+1,np.mean(rewards_all_episodes[-100:])))\n",
    "\n",
    "# Calculate and print the average reward per thousand episodes\n",
    "rewards_per_thosand_episodes = np.split(np.array(rewards_all_episodes),num_episodes/1000)\n",
    "count = 1000\n",
    "\n",
    "print(\"********Plot Average reward per thousand episodes********\\n\")\n",
    "episode_steps, reward_steps = [], []\n",
    "for r in rewards_per_thosand_episodes:\n",
    "#     print(count, \": \", str(sum(r/1000)))\n",
    "    episode_steps.append(count)\n",
    "    reward_steps.append(sum(r/1000))\n",
    "    count += 1000"
   ]
  },
  {
   "cell_type": "code",
   "execution_count": 67,
   "metadata": {},
   "outputs": [
    {
     "data": {
      "text/plain": [
       "[<matplotlib.lines.Line2D at 0x1a1499b9d0>]"
      ]
     },
     "execution_count": 67,
     "metadata": {},
     "output_type": "execute_result"
    },
    {
     "data": {
      "image/png": "[encoded data removed]",
      "text/plain": [
       "<Figure size 432x288 with 1 Axes>"
      ]
     },
     "metadata": {
      "needs_background": "light"
     },
     "output_type": "display_data"
    }
   ],
   "source": [
    "plt.plot(episode_steps, reward_steps)"
   ]
  },
  {
   "cell_type": "code",
   "execution_count": 68,
   "metadata": {},
   "outputs": [
    {
     "name": "stdout",
     "output_type": "stream",
     "text": [
      "[0.0, 0.0, 0.0, 1.0, 0.0, 0.0, 1.0, 0.0, 0.0, 0.0]\n",
      "0.001\n"
     ]
    }
   ],
   "source": [
    "print(rewards_all_episodes[-10:])\n",
    "print(exploration_rate)"
   ]
  },
  {
   "cell_type": "code",
   "execution_count": 69,
   "metadata": {},
   "outputs": [
    {
     "name": "stdout",
     "output_type": "stream",
     "text": [
      "\n",
      "\n",
      "********Q-table********\n",
      "\n",
      "[[2.26150996e-05 7.14904832e-07 9.85250107e-07 6.78483603e-07]\n",
      " [2.63694423e-07 6.05113177e-07 2.82867660e-07 3.04217883e-06]\n",
      " [3.99798843e-04 6.41698012e-07 5.85334101e-07 4.28473088e-07]\n",
      " [1.75626148e-10 3.89100838e-07 1.39390449e-10 0.00000000e+00]\n",
      " [1.27526061e-04 7.96667239e-07 6.71225798e-07 9.52525180e-07]\n",
      " [0.00000000e+00 0.00000000e+00 0.00000000e+00 0.00000000e+00]\n",
      " [2.37697368e-06 3.97249554e-06 1.99661521e-03 1.50081874e-05]\n",
      " [0.00000000e+00 0.00000000e+00 0.00000000e+00 0.00000000e+00]\n",
      " [2.27275388e-06 1.99420410e-06 1.23705646e-03 4.39431416e-06]\n",
      " [3.76053664e-05 8.00978047e-03 1.96815385e-04 1.53260257e-04]\n",
      " [1.34455840e-02 2.32246483e-04 2.10061892e-04 2.38739023e-04]\n",
      " [0.00000000e+00 0.00000000e+00 0.00000000e+00 0.00000000e+00]\n",
      " [0.00000000e+00 0.00000000e+00 0.00000000e+00 0.00000000e+00]\n",
      " [5.67537356e-04 4.47016278e-02 6.05394591e-04 5.31478699e-04]\n",
      " [5.30566525e-03 5.46030540e-03 6.07608883e-01 4.54526873e-03]\n",
      " [0.00000000e+00 0.00000000e+00 0.00000000e+00 0.00000000e+00]]\n"
     ]
    }
   ],
   "source": [
    "# Print updated Q-table\n",
    "print(\"\\n\\n********Q-table********\\n\")\n",
    "print(q_table)"
   ]
  },
  {
   "cell_type": "markdown",
   "metadata": {},
   "source": [
    "### Double Q-Learning"
   ]
  },
  {
   "cell_type": "code",
   "execution_count": 139,
   "metadata": {
    "scrolled": true
   },
   "outputs": [
    {
     "name": "stdout",
     "output_type": "stream",
     "text": [
      "Running average of episodes 1-100: 0.02\n",
      "Running average of episodes 101-200: 0.0\n",
      "Running average of episodes 201-300: 0.01\n",
      "Running average of episodes 301-400: 0.12\n",
      "Running average of episodes 401-500: 0.03\n",
      "Running average of episodes 501-600: 0.07\n",
      "Running average of episodes 601-700: 0.09\n",
      "Running average of episodes 701-800: 0.04\n",
      "Running average of episodes 801-900: 0.12\n",
      "Running average of episodes 901-1000: 0.18\n",
      "Running average of episodes 1001-1100: 0.34\n",
      "Running average of episodes 1101-1200: 0.21\n",
      "Running average of episodes 1201-1300: 0.25\n",
      "Running average of episodes 1301-1400: 0.24\n",
      "Running average of episodes 1401-1500: 0.09\n",
      "Running average of episodes 1501-1600: 0.13\n",
      "Running average of episodes 1601-1700: 0.08\n",
      "Running average of episodes 1701-1800: 0.18\n",
      "Running average of episodes 1801-1900: 0.09\n",
      "Running average of episodes 1901-2000: 0.17\n",
      "Running average of episodes 2001-2100: 0.11\n",
      "Running average of episodes 2101-2200: 0.08\n",
      "Running average of episodes 2201-2300: 0.28\n",
      "Running average of episodes 2301-2400: 0.32\n",
      "Running average of episodes 2401-2500: 0.28\n",
      "Running average of episodes 2501-2600: 0.34\n",
      "Running average of episodes 2601-2700: 0.46\n",
      "Running average of episodes 2701-2800: 0.31\n",
      "Running average of episodes 2801-2900: 0.16\n",
      "Running average of episodes 2901-3000: 0.13\n",
      "Running average of episodes 3001-3100: 0.03\n",
      "Running average of episodes 3101-3200: 0.02\n",
      "Running average of episodes 3201-3300: 0.03\n",
      "Running average of episodes 3301-3400: 0.03\n",
      "Running average of episodes 3401-3500: 0.06\n",
      "Running average of episodes 3501-3600: 0.05\n",
      "Running average of episodes 3601-3700: 0.03\n",
      "Running average of episodes 3701-3800: 0.01\n",
      "Running average of episodes 3801-3900: 0.08\n",
      "Running average of episodes 3901-4000: 0.06\n",
      "Running average of episodes 4001-4100: 0.14\n",
      "Running average of episodes 4101-4200: 0.03\n",
      "Running average of episodes 4201-4300: 0.04\n",
      "Running average of episodes 4301-4400: 0.13\n",
      "Running average of episodes 4401-4500: 0.14\n",
      "Running average of episodes 4501-4600: 0.08\n",
      "Running average of episodes 4601-4700: 0.14\n",
      "Running average of episodes 4701-4800: 0.15\n",
      "Running average of episodes 4801-4900: 0.09\n",
      "Running average of episodes 4901-5000: 0.33\n",
      "Running average of episodes 5001-5100: 0.41\n",
      "Running average of episodes 5101-5200: 0.3\n",
      "Running average of episodes 5201-5300: 0.31\n",
      "Running average of episodes 5301-5400: 0.1\n",
      "Running average of episodes 5401-5500: 0.04\n",
      "Running average of episodes 5501-5600: 0.11\n",
      "Running average of episodes 5601-5700: 0.15\n",
      "Running average of episodes 5701-5800: 0.1\n",
      "Running average of episodes 5801-5900: 0.22\n",
      "Running average of episodes 5901-6000: 0.58\n",
      "Running average of episodes 6001-6100: 0.53\n",
      "Running average of episodes 6101-6200: 0.49\n",
      "Running average of episodes 6201-6300: 0.54\n",
      "Running average of episodes 6301-6400: 0.5\n",
      "Running average of episodes 6401-6500: 0.58\n",
      "Running average of episodes 6501-6600: 0.58\n",
      "Running average of episodes 6601-6700: 0.56\n",
      "Running average of episodes 6701-6800: 0.57\n",
      "Running average of episodes 6801-6900: 0.55\n",
      "Running average of episodes 6901-7000: 0.56\n",
      "Running average of episodes 7001-7100: 0.61\n",
      "Running average of episodes 7101-7200: 0.56\n",
      "Running average of episodes 7201-7300: 0.44\n",
      "Running average of episodes 7301-7400: 0.22\n",
      "Running average of episodes 7401-7500: 0.56\n",
      "Running average of episodes 7501-7600: 0.6\n",
      "Running average of episodes 7601-7700: 0.64\n",
      "Running average of episodes 7701-7800: 0.55\n",
      "Running average of episodes 7801-7900: 0.49\n",
      "Running average of episodes 7901-8000: 0.23\n",
      "Running average of episodes 8001-8100: 0.13\n",
      "Running average of episodes 8101-8200: 0.17\n",
      "Running average of episodes 8201-8300: 0.17\n",
      "Running average of episodes 8301-8400: 0.1\n",
      "Running average of episodes 8401-8500: 0.19\n",
      "Running average of episodes 8501-8600: 0.36\n",
      "Running average of episodes 8601-8700: 0.55\n",
      "Running average of episodes 8701-8800: 0.52\n",
      "Running average of episodes 8801-8900: 0.61\n",
      "Running average of episodes 8901-9000: 0.24\n",
      "Running average of episodes 9001-9100: 0.06\n",
      "Running average of episodes 9101-9200: 0.26\n",
      "Running average of episodes 9201-9300: 0.24\n",
      "Running average of episodes 9301-9400: 0.29\n",
      "Running average of episodes 9401-9500: 0.3\n",
      "Running average of episodes 9501-9600: 0.27\n",
      "Running average of episodes 9601-9700: 0.09\n",
      "Running average of episodes 9701-9800: 0.12\n",
      "Running average of episodes 9801-9900: 0.12\n",
      "Running average of episodes 9901-10000: 0.27\n",
      "********Plot Average reward per thousand episodes********\n",
      "\n"
     ]
    }
   ],
   "source": [
    "np.random.seed(seed)\n",
    "q1_table = np.zeros((state_space_size, action_space_size))\n",
    "q2_table = np.zeros((state_space_size, action_space_size))\n",
    "\n",
    "num_episodes = NUM_EPISODES\n",
    "max_steps_per_episode = STEPS_PER_EPISODE\n",
    "\n",
    "learning_rate = LR\n",
    "discount_rate = 0.99\n",
    "\n",
    "exploration_rate = 1\n",
    "max_exploration_rate = 1\n",
    "min_exploration_rate = 0.001\n",
    "exploration_decay_rate = 0.01\n",
    "\n",
    "rewards_all_episodes = []\n",
    "\n",
    "for episode in range(num_episodes):\n",
    "    state = env.reset()\n",
    "    done = False\n",
    "    rewards_current_episode = 0\n",
    "\n",
    "    for step in range(max_steps_per_episode): \n",
    "\n",
    "        # Exploration-exploitation trade-off\n",
    "        exploration_rate_threshold = np.random.uniform(0, 1)\n",
    "        if exploration_rate_threshold > exploration_rate:\n",
    "            action = np.argmax(q1_table[state,:] + q2_table[state,:]) \n",
    "        else:\n",
    "            action = env.action_space.sample()\n",
    "        new_state, reward, done, info = env.step(action)\n",
    "        if np.random.uniform(0, 1) > 0.5:\n",
    "            q1_table[state, action] = q1_table[state, action] * (1 - learning_rate) + \\\n",
    "            learning_rate * (reward + discount_rate * q2_table[new_state, np.argmax(q1_table[new_state, :])])\n",
    "        else:\n",
    "            q2_table[state, action] = q2_table[state, action] * (1 - learning_rate) + \\\n",
    "            learning_rate * (reward + discount_rate * q1_table[new_state, np.argmax(q2_table[new_state, :])])\n",
    "        state = new_state\n",
    "        rewards_current_episode += reward \n",
    "        if done == True: \n",
    "            break\n",
    "    exploration_rate = min_exploration_rate + \\\n",
    "    (max_exploration_rate - min_exploration_rate) * np.exp(-exploration_decay_rate*episode)\n",
    "    rewards_all_episodes.append(rewards_current_episode)\n",
    "    if (episode+1) % 100 == 0:\n",
    "        print(\"Running average of episodes {}-{}: {}\".format(episode-98,episode+1,np.mean(rewards_all_episodes[-100:])))\n",
    "\n",
    "# Calculate and print the average reward per thousand episodes\n",
    "rewards_per_thosand_episodes = np.split(np.array(rewards_all_episodes),num_episodes/1000)\n",
    "count = 1000\n",
    "\n",
    "print(\"********Plot Average reward per thousand episodes********\\n\")\n",
    "episode_steps, reward_steps = [], []\n",
    "for r in rewards_per_thosand_episodes:\n",
    "#     print(count, \": \", str(sum(r/1000)))\n",
    "    episode_steps.append(count)\n",
    "    reward_steps.append(sum(r/1000))\n",
    "    count += 1000"
   ]
  },
  {
   "cell_type": "code",
   "execution_count": 140,
   "metadata": {},
   "outputs": [
    {
     "data": {
      "text/plain": [
       "[<matplotlib.lines.Line2D at 0x1a152c6510>]"
      ]
     },
     "execution_count": 140,
     "metadata": {},
     "output_type": "execute_result"
    },
    {
     "data": {
      "image/png": "[encoded data removed]",
      "text/plain": [
       "<Figure size 432x288 with 1 Axes>"
      ]
     },
     "metadata": {
      "needs_background": "light"
     },
     "output_type": "display_data"
    }
   ],
   "source": [
    "plt.plot(episode_steps, reward_steps)"
   ]
  },
  {
   "cell_type": "code",
   "execution_count": 94,
   "metadata": {},
   "outputs": [
    {
     "name": "stdout",
     "output_type": "stream",
     "text": [
      "[1.0, 0.0, 0.0, 0.0, 0.0, 0.0, 0.0, 0.0, 0.0, 0.0]\n",
      "0.001\n"
     ]
    }
   ],
   "source": [
    "print(rewards_all_episodes[-10:])\n",
    "print(exploration_rate)"
   ]
  },
  {
   "cell_type": "code",
   "execution_count": 95,
   "metadata": {},
   "outputs": [
    {
     "name": "stdout",
     "output_type": "stream",
     "text": [
      "\n",
      "\n",
      "********Q-table********\n",
      "\n",
      "[[1.44376409e-01 5.48520200e-02 4.66112898e-03 5.86170553e-03]\n",
      " [5.25317291e-03 7.23437790e-03 3.03343456e-03 4.33419387e-02]\n",
      " [7.76975307e-03 7.68403771e-02 1.80626701e-02 3.80302147e-03]\n",
      " [1.82548074e-02 0.00000000e+00 5.67310308e-04 4.30485090e-03]\n",
      " [9.62186652e-03 3.71194980e-02 8.11480214e-03 7.37483141e-03]\n",
      " [0.00000000e+00 0.00000000e+00 0.00000000e+00 0.00000000e+00]\n",
      " [2.17765391e-02 8.78263465e-03 2.32042970e-01 1.91793842e-02]\n",
      " [0.00000000e+00 0.00000000e+00 0.00000000e+00 0.00000000e+00]\n",
      " [4.82489935e-03 1.29408343e-02 1.15637341e-02 4.40553266e-01]\n",
      " [4.63554314e-02 4.23314763e-01 7.84771438e-02 2.90113136e-02]\n",
      " [5.59866841e-01 2.31175788e-01 7.06264055e-02 1.21733594e-01]\n",
      " [0.00000000e+00 0.00000000e+00 0.00000000e+00 0.00000000e+00]\n",
      " [0.00000000e+00 0.00000000e+00 0.00000000e+00 0.00000000e+00]\n",
      " [0.00000000e+00 9.28137007e-02 6.91199746e-01 1.34698222e-01]\n",
      " [4.37944995e-01 6.17672816e-01 2.40665915e-01 2.86249279e-01]\n",
      " [0.00000000e+00 0.00000000e+00 0.00000000e+00 0.00000000e+00]]\n",
      "[[1.59344973e-01 9.02762684e-02 6.49465569e-03 5.57568032e-03]\n",
      " [4.17953935e-03 3.04043446e-03 2.92825050e-03 4.46889816e-02]\n",
      " [7.70627913e-03 1.10113945e-01 4.50519646e-02 6.50235774e-03]\n",
      " [2.99542900e-02 0.00000000e+00 9.76178275e-04 2.24654882e-04]\n",
      " [5.62274452e-03 1.00541055e-01 7.02320404e-03 8.01113247e-03]\n",
      " [0.00000000e+00 0.00000000e+00 0.00000000e+00 0.00000000e+00]\n",
      " [9.69459308e-04 1.03419422e-02 6.43279536e-02 4.54567059e-03]\n",
      " [0.00000000e+00 0.00000000e+00 0.00000000e+00 0.00000000e+00]\n",
      " [1.43910919e-01 2.20217622e-02 2.23483460e-02 2.33077732e-01]\n",
      " [2.39413474e-02 5.10621791e-01 2.72690844e-02 0.00000000e+00]\n",
      " [5.21298921e-01 5.93365001e-03 1.17340390e-01 1.41406413e-01]\n",
      " [0.00000000e+00 0.00000000e+00 0.00000000e+00 0.00000000e+00]\n",
      " [0.00000000e+00 0.00000000e+00 0.00000000e+00 0.00000000e+00]\n",
      " [4.29874819e-03 9.36099368e-02 4.89555607e-01 6.31641035e-02]\n",
      " [0.00000000e+00 9.24943259e-01 0.00000000e+00 4.85762132e-01]\n",
      " [0.00000000e+00 0.00000000e+00 0.00000000e+00 0.00000000e+00]]\n"
     ]
    }
   ],
   "source": [
    "# Print updated Q-table\n",
    "print(\"\\n\\n********Q-table********\\n\")\n",
    "print(q1_table)\n",
    "print(q2_table)"
   ]
  },
  {
   "cell_type": "markdown",
   "metadata": {},
   "source": [
    "### On-policy first-visit MC control (for epsilon-soft policies), estimates policy"
   ]
  },
  {
   "cell_type": "code",
   "execution_count": 96,
   "metadata": {},
   "outputs": [],
   "source": [
    "import itertools"
   ]
  },
  {
   "cell_type": "code",
   "execution_count": 115,
   "metadata": {
    "scrolled": true
   },
   "outputs": [
    {
     "name": "stdout",
     "output_type": "stream",
     "text": [
      "[[0. 0. 0. 0.]\n",
      " [0. 0. 0. 0.]\n",
      " [0. 0. 0. 0.]\n",
      " [0. 0. 0. 0.]\n",
      " [0. 0. 0. 0.]\n",
      " [0. 0. 0. 0.]\n",
      " [0. 0. 0. 0.]\n",
      " [0. 0. 0. 0.]\n",
      " [0. 0. 0. 0.]\n",
      " [0. 0. 0. 0.]\n",
      " [0. 0. 0. 0.]\n",
      " [0. 0. 0. 0.]\n",
      " [0. 0. 0. 0.]\n",
      " [0. 0. 0. 0.]\n",
      " [0. 0. 0. 0.]\n",
      " [0. 0. 0. 0.]]\n",
      "Running average of episodes 1-100: 0.06\n",
      "Running average of episodes 101-200: 0.19\n",
      "Running average of episodes 201-300: 0.33\n",
      "Running average of episodes 301-400: 0.61\n",
      "Running average of episodes 401-500: 0.78\n",
      "Running average of episodes 501-600: 0.65\n",
      "Running average of episodes 601-700: 0.64\n",
      "Running average of episodes 701-800: 0.78\n",
      "Running average of episodes 801-900: 0.78\n",
      "Running average of episodes 901-1000: 0.71\n",
      "Running average of episodes 1001-1100: 0.7\n",
      "Running average of episodes 1101-1200: 0.66\n",
      "Running average of episodes 1201-1300: 0.74\n",
      "Running average of episodes 1301-1400: 0.74\n",
      "Running average of episodes 1401-1500: 0.77\n",
      "Running average of episodes 1501-1600: 0.76\n",
      "Running average of episodes 1601-1700: 0.75\n",
      "Running average of episodes 1701-1800: 0.73\n",
      "Running average of episodes 1801-1900: 0.74\n",
      "Running average of episodes 1901-2000: 0.64\n",
      "Running average of episodes 2001-2100: 0.71\n",
      "Running average of episodes 2101-2200: 0.73\n",
      "Running average of episodes 2201-2300: 0.75\n",
      "Running average of episodes 2301-2400: 0.73\n",
      "Running average of episodes 2401-2500: 0.75\n",
      "Running average of episodes 2501-2600: 0.7\n",
      "Running average of episodes 2601-2700: 0.7\n",
      "Running average of episodes 2701-2800: 0.78\n",
      "Running average of episodes 2801-2900: 0.76\n",
      "Running average of episodes 2901-3000: 0.72\n",
      "Running average of episodes 3001-3100: 0.78\n",
      "Running average of episodes 3101-3200: 0.73\n",
      "Running average of episodes 3201-3300: 0.75\n",
      "Running average of episodes 3301-3400: 0.76\n",
      "Running average of episodes 3401-3500: 0.7\n",
      "Running average of episodes 3501-3600: 0.75\n",
      "Running average of episodes 3601-3700: 0.72\n",
      "Running average of episodes 3701-3800: 0.64\n",
      "Running average of episodes 3801-3900: 0.77\n",
      "Running average of episodes 3901-4000: 0.78\n",
      "Running average of episodes 4001-4100: 0.75\n",
      "Running average of episodes 4101-4200: 0.73\n",
      "Running average of episodes 4201-4300: 0.71\n",
      "Running average of episodes 4301-4400: 0.6\n",
      "Running average of episodes 4401-4500: 0.74\n",
      "Running average of episodes 4501-4600: 0.76\n",
      "Running average of episodes 4601-4700: 0.64\n",
      "Running average of episodes 4701-4800: 0.76\n",
      "Running average of episodes 4801-4900: 0.69\n",
      "Running average of episodes 4901-5000: 0.81\n",
      "Running average of episodes 5001-5100: 0.68\n",
      "Running average of episodes 5101-5200: 0.67\n",
      "Running average of episodes 5201-5300: 0.7\n",
      "Running average of episodes 5301-5400: 0.7\n",
      "Running average of episodes 5401-5500: 0.72\n",
      "Running average of episodes 5501-5600: 0.71\n",
      "Running average of episodes 5601-5700: 0.69\n",
      "Running average of episodes 5701-5800: 0.76\n",
      "Running average of episodes 5801-5900: 0.77\n",
      "Running average of episodes 5901-6000: 0.74\n",
      "Running average of episodes 6001-6100: 0.74\n",
      "Running average of episodes 6101-6200: 0.65\n",
      "Running average of episodes 6201-6300: 0.81\n",
      "Running average of episodes 6301-6400: 0.8\n",
      "Running average of episodes 6401-6500: 0.71\n",
      "Running average of episodes 6501-6600: 0.7\n",
      "Running average of episodes 6601-6700: 0.74\n",
      "Running average of episodes 6701-6800: 0.68\n",
      "Running average of episodes 6801-6900: 0.68\n",
      "Running average of episodes 6901-7000: 0.69\n",
      "Running average of episodes 7001-7100: 0.69\n",
      "Running average of episodes 7101-7200: 0.74\n",
      "Running average of episodes 7201-7300: 0.71\n",
      "Running average of episodes 7301-7400: 0.68\n",
      "Running average of episodes 7401-7500: 0.71\n",
      "Running average of episodes 7501-7600: 0.8\n",
      "Running average of episodes 7601-7700: 0.7\n",
      "Running average of episodes 7701-7800: 0.75\n",
      "Running average of episodes 7801-7900: 0.74\n",
      "Running average of episodes 7901-8000: 0.64\n",
      "Running average of episodes 8001-8100: 0.74\n",
      "Running average of episodes 8101-8200: 0.68\n",
      "Running average of episodes 8201-8300: 0.8\n",
      "Running average of episodes 8301-8400: 0.72\n",
      "Running average of episodes 8401-8500: 0.78\n",
      "Running average of episodes 8501-8600: 0.71\n",
      "Running average of episodes 8601-8700: 0.77\n",
      "Running average of episodes 8701-8800: 0.76\n",
      "Running average of episodes 8801-8900: 0.74\n",
      "Running average of episodes 8901-9000: 0.68\n",
      "Running average of episodes 9001-9100: 0.75\n",
      "Running average of episodes 9101-9200: 0.74\n",
      "Running average of episodes 9201-9300: 0.68\n",
      "Running average of episodes 9301-9400: 0.74\n",
      "Running average of episodes 9401-9500: 0.7\n",
      "Running average of episodes 9501-9600: 0.72\n",
      "Running average of episodes 9601-9700: 0.75\n",
      "Running average of episodes 9701-9800: 0.75\n",
      "Running average of episodes 9801-9900: 0.71\n",
      "Running average of episodes 9901-10000: 0.74\n",
      "********Plot Average reward per thousand episodes********\n",
      "\n"
     ]
    }
   ],
   "source": [
    "np.random.seed(seed)\n",
    "\n",
    "q_table = np.zeros((state_space_size, action_space_size))\n",
    "returns = {(s,a):[] for (s,a) in itertools.product(range(env.observation_space.n), range(env.action_space.n))}\n",
    "\n",
    "print(q_table)\n",
    "\n",
    "num_episodes = NUM_EPISODES\n",
    "max_steps_per_episode = STEPS_PER_EPISODE\n",
    "\n",
    "learning_rate = LR\n",
    "discount_rate = 0.99\n",
    "\n",
    "exploration_rate = 1\n",
    "max_exploration_rate = 1\n",
    "min_exploration_rate = 0.001\n",
    "exploration_decay_rate = 0.01\n",
    "\n",
    "def policy(s, q):\n",
    "    exploration_rate_threshold = np.random.uniform(0,1)\n",
    "    if exploration_rate_threshold > exploration_rate:\n",
    "        action = np.argmax(q[s,:])\n",
    "    else:\n",
    "        action = env.action_space.sample()\n",
    "    return action\n",
    "\n",
    "\n",
    "rewards_all_episodes = []\n",
    "\n",
    "for episode in range(num_episodes):\n",
    "    done = False\n",
    "    episode_states_actions, episode_rewards = [], []\n",
    "    G = 0\n",
    "    rewards_current_episode = 0\n",
    "    state = env.reset()\n",
    "    action = policy(state, q_table)\n",
    "    while not done:\n",
    "        episode_states_actions.append((state,action))\n",
    "        new_state, reward, done, info = env.step(action)\n",
    "        episode_rewards.append(reward)\n",
    "        state = new_state\n",
    "        action = policy(state, q_table)\n",
    "        rewards_current_episode += reward\n",
    "    \n",
    "    for step in range(len(episode_states_actions)-1, -1, -1):\n",
    "        G = reward + discount_rate*G\n",
    "        if episode_states_actions[step] not in episode_states_actions[:step]:\n",
    "            returns[episode_states_actions[step]].append(G)\n",
    "            q_table[episode_states_actions[step][0], episode_states_actions[step][1]] = \\\n",
    "            np.mean(returns[episode_states_actions[step]])\n",
    "    exploration_rate = min_exploration_rate + \\\n",
    "    (max_exploration_rate - min_exploration_rate) * np.exp(-exploration_decay_rate*episode)\n",
    "    rewards_all_episodes.append(rewards_current_episode)\n",
    "    if (episode+1) % 100 == 0:\n",
    "        print(\"Running average of episodes {}-{}: {}\".format(episode-98,episode+1,np.mean(rewards_all_episodes[-100:])))\n",
    "\n",
    "# Calculate and print the average reward per thousand episodes\n",
    "rewards_per_thosand_episodes = np.split(np.array(rewards_all_episodes),num_episodes/1000)\n",
    "count = 1000\n",
    "\n",
    "print(\"********Plot Average reward per thousand episodes********\\n\")\n",
    "episode_steps, reward_steps = [], []\n",
    "for r in rewards_per_thosand_episodes:\n",
    "#     print(count, \": \", str(sum(r/1000)))\n",
    "    episode_steps.append(count)\n",
    "    reward_steps.append(sum(r/1000))\n",
    "    count += 1000"
   ]
  },
  {
   "cell_type": "code",
   "execution_count": 116,
   "metadata": {},
   "outputs": [
    {
     "data": {
      "text/plain": [
       "[<matplotlib.lines.Line2D at 0x1a15475590>]"
      ]
     },
     "execution_count": 116,
     "metadata": {},
     "output_type": "execute_result"
    },
    {
     "data": {
      "image/png": "[encoded data removed]",
      "text/plain": [
       "<Figure size 432x288 with 1 Axes>"
      ]
     },
     "metadata": {
      "needs_background": "light"
     },
     "output_type": "display_data"
    }
   ],
   "source": [
    "plt.plot(episode_steps, reward_steps)"
   ]
  },
  {
   "cell_type": "code",
   "execution_count": 117,
   "metadata": {},
   "outputs": [
    {
     "name": "stdout",
     "output_type": "stream",
     "text": [
      "[1.0, 1.0, 1.0, 1.0, 1.0, 1.0, 1.0, 1.0, 1.0, 0.0]\n",
      "0.001\n"
     ]
    }
   ],
   "source": [
    "print(rewards_all_episodes[-10:])\n",
    "print(exploration_rate)"
   ]
  },
  {
   "cell_type": "code",
   "execution_count": 118,
   "metadata": {},
   "outputs": [
    {
     "name": "stdout",
     "output_type": "stream",
     "text": [
      "\n",
      "\n",
      "********Q-table********\n",
      "\n",
      "[[21.08145475  7.51458538  6.76828061  8.02369   ]\n",
      " [ 0.92570329  0.14414691  0.70846218 11.95942276]\n",
      " [ 9.77759002  1.55275457  1.29017218  2.68234577]\n",
      " [ 0.74271114  0.          0.          0.        ]\n",
      " [19.62209095  6.54190603  4.27509783  7.86251194]\n",
      " [ 0.          0.          0.          0.        ]\n",
      " [ 6.39113676  0.          0.54001818  0.        ]\n",
      " [ 0.          0.          0.          0.        ]\n",
      " [ 6.38304736 10.18950367  6.10368132 16.64625253]\n",
      " [ 4.15433133 12.37772394  2.6440256   4.691184  ]\n",
      " [ 8.68180979  2.08926798  1.04442428  6.35109924]\n",
      " [ 0.          0.          0.          0.        ]\n",
      " [ 0.          0.          0.          0.        ]\n",
      " [ 4.07212677  2.19476531  9.80931001  5.5702493 ]\n",
      " [ 4.69424987  6.05098364  2.76676424  3.27551461]\n",
      " [ 0.          0.          0.          0.        ]]\n"
     ]
    }
   ],
   "source": [
    "# Print updated Q-table\n",
    "print(\"\\n\\n********Q-table********\\n\")\n",
    "print(q_table)"
   ]
  },
  {
   "cell_type": "code",
   "execution_count": null,
   "metadata": {},
   "outputs": [],
   "source": []
  },
  {
   "cell_type": "code",
   "execution_count": null,
   "metadata": {},
   "outputs": [],
   "source": [
    "import gym\n",
    "import numpy as np\n",
    "\n",
    "# This is a straightforwad implementation of SARSA for the FrozenLake OpenAI\n",
    "# Gym testbed. I wrote it mostly to make myself familiar with the OpenAI gym;\n",
    "# the SARSA algorithm was implemented pretty much from the Wikipedia page alone.\n",
    "\n",
    "env = gym.make(\"FrozenLake-v0\")\n",
    "\n",
    "def choose_action(observation):\n",
    "    return np.argmax(q_table[observation])\n",
    "\n",
    "alpha = 0.4\n",
    "gamma = 0.999\n",
    "\n",
    "q_table = dict([(x, [1, 1, 1, 1]) for x in range(16)])\n",
    "score = []\n",
    "\n",
    "for i in range(10000):\n",
    "    observation = env.reset()\n",
    "    action = choose_action(observation)\n",
    "\n",
    "    prev_observation = None\n",
    "    prev_action      = None\n",
    "\n",
    "    t = 0\n",
    "\n",
    "    for t in range(2500):\n",
    "        observation, reward, done, info = env.step(action)\n",
    "\n",
    "        action = choose_action(observation)\n",
    "\n",
    "        if not prev_observation is None:\n",
    "            q_old = q_table[prev_observation][prev_action]\n",
    "            q_new = q_old\n",
    "            if done:\n",
    "                q_new += alpha * (reward - q_old)\n",
    "            else:\n",
    "                q_new += alpha * (reward + gamma * q_table[observation][action] - q_old)\n",
    "\n",
    "            new_table = q_table[prev_observation]\n",
    "            new_table[prev_action] = q_new\n",
    "            q_table[prev_observation] = new_table\n",
    "\n",
    "        prev_observation = observation\n",
    "        prev_action = action\n",
    "\n",
    "        if done:\n",
    "            if len(score) < 100:\n",
    "                score.append(reward)\n",
    "            else:\n",
    "                score[i % 100] = reward\n",
    "\n",
    "            print(\"Episode {} finished after {} timesteps with r={}. Running score: {}\".format(i, t, reward, np.mean(score)))\n",
    "            break"
   ]
  },
  {
   "cell_type": "code",
   "execution_count": null,
   "metadata": {},
   "outputs": [],
   "source": []
  },
  {
   "cell_type": "code",
   "execution_count": null,
   "metadata": {},
   "outputs": [],
   "source": []
  },
  {
   "cell_type": "code",
   "execution_count": null,
   "metadata": {},
   "outputs": [],
   "source": []
  }
 ],
 "metadata": {
  "kernelspec": {
   "display_name": "Python 3",
   "language": "python",
   "name": "python3"
  },
  "language_info": {
   "codemirror_mode": {
    "name": "ipython",
    "version": 3
   },
   "file_extension": ".py",
   "mimetype": "text/x-python",
   "name": "python",
   "nbconvert_exporter": "python",
   "pygments_lexer": "ipython3",
   "version": "3.7.4"
  }
 },
 "nbformat": 4,
 "nbformat_minor": 2
}
