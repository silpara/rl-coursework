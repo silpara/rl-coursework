{
 "cells": [
  {
   "cell_type": "markdown",
   "metadata": {},
   "source": [
    "# Grid World"
   ]
  },
  {
   "cell_type": "markdown",
   "metadata": {},
   "source": [
    "<img src=\"gridworld.png\" alt=\"Drawing\" style=\"width: 400px;\"/>"
   ]
  },
  {
   "cell_type": "markdown",
   "metadata": {},
   "source": [
    "### Set Rewards\n",
    "\n",
    "\n",
    "$A = 2$ and $A^{'} = 22$ are special states. Any action in $A$ takes to $A^{'}$ with reward of 10\n",
    "\n",
    "$B = 4$ and $B^{'} = 14$ are special states. Any action in $B$ takes to $B^{'}$ with reward of 5\n",
    "\n",
    "Any action in boundary state which transitions to state outside grid results in reward of -1 with no change in state\n",
    "\n",
    "All other actions in states give reward of 0"
   ]
  },
  {
   "cell_type": "code",
   "execution_count": 45,
   "metadata": {},
   "outputs": [],
   "source": [
    "import numpy as np\n",
    "from collections import Counter\n",
    "import pandas as pd\n",
    "from matplotlib import pyplot as plt\n",
    "np.random.seed(100)\n",
    "plt.rcParams['figure.figsize'] = (8,6)\n",
    "plt.rcParams['figure.dpi'] = 100"
   ]
  },
  {
   "cell_type": "code",
   "execution_count": 2,
   "metadata": {},
   "outputs": [],
   "source": [
    "R_s_a = {}\n",
    "actions = ['l', 'u', 'r', 'd']\n",
    "action_map = {1:'l', 2:'u', 3:'r', 4:'d'}\n",
    "\n",
    "#initialize rewards\n",
    "for state in range(1, 26):\n",
    "    for action in actions:\n",
    "        R_s_a[(state, action)] = 0\n",
    "\n",
    "# reward for boundary states\n",
    "for state in [1, 6, 11, 16, 21]:\n",
    "    R_s_a[(state, 'l')] = -1\n",
    "\n",
    "for state in [1, 2, 3, 4, 5]:\n",
    "    R_s_a[(state, 'u')] = -1\n",
    "\n",
    "for state in [5, 10, 15, 20, 25]:\n",
    "    R_s_a[(state, 'r')] = -1\n",
    "\n",
    "for state in [21, 22, 23, 24, 25]:\n",
    "    R_s_a[(state, 'd')] = -1\n",
    "\n",
    "# reward for special states\n",
    "for action in actions:\n",
    "    R_s_a[(2, action)] = 10\n",
    "    R_s_a[(4, action)] = 5\n",
    "\n",
    "def get_reward(state, action):\n",
    "    action = action_map[action]\n",
    "    return R_s_a[(state, action)]"
   ]
  },
  {
   "cell_type": "markdown",
   "metadata": {},
   "source": [
    "### Policy"
   ]
  },
  {
   "cell_type": "code",
   "execution_count": 3,
   "metadata": {},
   "outputs": [],
   "source": [
    "def policy(state, theta, X):\n",
    "    action = 1\n",
    "    p = np.exp(np.matmul(X[state-1], theta).reshape(-1)) / \\\n",
    "    np.sum(np.exp(np.matmul(X[state-1], theta).reshape(-1)), keepdims=False)\n",
    "    p_cumulative = np.cumsum(p)\n",
    "    threshold = np.random.uniform(0, 1)\n",
    "    for idx in range(p.shape[0]-2, -1, -1):\n",
    "        if threshold > p_cumulative[idx]:\n",
    "            action = idx+2\n",
    "            break\n",
    "    return action, p\n",
    "\n"
   ]
  },
  {
   "cell_type": "markdown",
   "metadata": {},
   "source": [
    "### State Transition"
   ]
  },
  {
   "cell_type": "code",
   "execution_count": 4,
   "metadata": {},
   "outputs": [],
   "source": [
    "def get_next_state(current_state, action):\n",
    "    current_state = current_state - 1\n",
    "    action = action_map[action]\n",
    "    next_state = current_state\n",
    "    grid_row = current_state // 5\n",
    "    grid_column = current_state % 5\n",
    "    if action == 'u':\n",
    "        est_next_state = current_state - 5\n",
    "        est_grid_row = est_next_state // 5\n",
    "        if est_grid_row >= 0:\n",
    "            next_state = est_next_state\n",
    "    elif action == 'd':\n",
    "        est_next_state = current_state + 5\n",
    "        est_grid_row = est_next_state // 5\n",
    "        if est_grid_row <= 4:\n",
    "            next_state = est_next_state\n",
    "    elif action == 'l':\n",
    "        est_next_state = current_state - 1\n",
    "        est_grid_row = est_next_state // 5\n",
    "        if est_grid_row == grid_row:\n",
    "            next_state = est_next_state\n",
    "    elif action == 'r':\n",
    "        est_next_state = current_state + 1\n",
    "        est_grid_row = est_next_state // 5\n",
    "        if est_grid_row == grid_row:\n",
    "            next_state = est_next_state\n",
    "    if current_state == 1:\n",
    "        next_state = 21\n",
    "    if current_state == 3:\n",
    "        next_state = 13\n",
    "    next_state = next_state + 1\n",
    "    return next_state"
   ]
  },
  {
   "cell_type": "markdown",
   "metadata": {},
   "source": [
    "### A step in the grid"
   ]
  },
  {
   "cell_type": "code",
   "execution_count": 5,
   "metadata": {},
   "outputs": [],
   "source": [
    "def step(state, action):\n",
    "    return get_next_state(state, action), get_reward(state, action)"
   ]
  },
  {
   "cell_type": "markdown",
   "metadata": {},
   "source": [
    "# Algorithm 1\n",
    "\n",
    "$\\hat{J}_{t+1} = (1 - \\zeta_{t})\\hat{J}_{t} + \\zeta_{t}r_{t+1}$ <br>\n",
    "$\\delta_{t} = r_{t+1} - \\hat{J}_{t+1} + v^{T}_{t}f_{s_{t+1}} - v^{T}_{t}f_{s_{t}}$<br>\n",
    "$v_{t+1} = v_{t} + \\alpha_{t}\\delta_{t}f_{s_{t}}$<br>\n",
    "$\\theta_{t+1} = \\theta_{t} + \\beta_{t}\\delta_{t}\\psi_{s_{t},a_{t}}$<br>\n",
    "<br>\n",
    "Where,<br>\n",
    "$\\zeta_{t} = c\\alpha_{t}$<br>\n",
    "$\\frac{\\beta_{t}}{\\alpha_{t}} \\to 0$, as $t \\to \\infty$<br>\n",
    "$\\sum \\limits _{t} \\alpha_{t} = \\sum \\limits _{t} \\beta_{t} = \\infty$<br>\n",
    "$\\sum \\limits _{t} \\alpha^{2}_{t} < \\infty, \\sum \\limits _{t} \\beta^{2}_{t} < \\infty$"
   ]
  },
  {
   "cell_type": "code",
   "execution_count": 6,
   "metadata": {},
   "outputs": [],
   "source": [
    "def state_feature(state, case=1):\n",
    "    feature = None\n",
    "    if case == 1:\n",
    "        feature = np.array([state / 25])\n",
    "    elif case == 2:\n",
    "        feature = np.array([1, state/25, (state/25)**2])\n",
    "    return feature\n"
   ]
  },
  {
   "cell_type": "code",
   "execution_count": 7,
   "metadata": {},
   "outputs": [],
   "source": [
    "def state_action_feature(state, action, case=1):\n",
    "    feature = None\n",
    "    if case == 1:\n",
    "        feature = np.array([1, state/25, action/4])\n",
    "    else:\n",
    "        feature = np.array([1, state/25, (state/25)**2, action/4, (action/4)**2, state*action/100])\n",
    "    return feature"
   ]
  },
  {
   "cell_type": "code",
   "execution_count": 8,
   "metadata": {},
   "outputs": [],
   "source": [
    "# feature_matrix = np.array([state_action_feature(state, action, 1) for state in range(1, 26) for action in range(1, 5) ]).reshape(25, 4, -1)\n",
    "# feature_matrix"
   ]
  },
  {
   "cell_type": "code",
   "execution_count": 9,
   "metadata": {},
   "outputs": [],
   "source": [
    "# feature_matrix = np.array([state_action_feature(state, action, 2) for state in range(1, 26) for action in range(1, 5) ]).reshape(25, 4, -1)\n",
    "# feature_matrix"
   ]
  },
  {
   "cell_type": "code",
   "execution_count": 10,
   "metadata": {},
   "outputs": [],
   "source": [
    "def psi(state, action, theta, X_state_action, case=1):\n",
    "    psi_ = X_state_action[state-1][action-1]\n",
    "    _, p = policy(state, theta, X_state_action)\n",
    "#     print(p, p.shape)\n",
    "#     print(X_state_action[state-1], X_state_action[state-1].shape)\n",
    "    psi_ = psi_ - np.dot(p, X_state_action[state-1])\n",
    "    return psi_ #, p, X_state_action[state-1]\n",
    "        "
   ]
  },
  {
   "cell_type": "code",
   "execution_count": 11,
   "metadata": {},
   "outputs": [],
   "source": [
    "def algorithm1(seed=123, iterations=10000, c=1, case=1, verbose=False):\n",
    "    np.random.seed(seed)\n",
    "    state = 1 + np.random.choice(25)\n",
    "#     state=13\n",
    "#     v = np.zeros((1, 1)) if case == 1 else np.zeros((3, 1))\n",
    "#     theta = np.zeros((3, 1)) if case == 1 else np.zeros((6, 1))\n",
    "    v = np.zeros(1) if case == 1 else np.zeros(3)\n",
    "    theta = np.zeros(3) if case == 1 else np.zeros(6)\n",
    "    J = [0]\n",
    "    X_state_action = np.array([state_action_feature(state, action, case) for state in range(1, 26) for action in range(1, 5) ]).reshape(25, 4, -1)\n",
    "    X_state = np.array([state_feature(state, case) for state in range(1, 26)]).reshape(25, -1)\n",
    "    for iter_ in range(iterations):\n",
    "        alpha = 1 / (1 + iter_**(2/3))\n",
    "        beta = 1 / (1 + iter_)\n",
    "        zeta = c*alpha\n",
    "        action, _ = policy(state, theta, X_state_action)\n",
    "        next_state, reward = step(state, action)\n",
    "        J_ = (1 - zeta)*J[-1] + zeta*reward\n",
    "        delta = reward - J_ + np.matmul(state_feature(next_state, case), v) - np.matmul(state_feature(state, case), v)\n",
    "        v = v + alpha*delta*state_feature(state, case)\n",
    "        theta = theta + beta*delta*psi(state, action, theta, X_state_action, case)\n",
    "        J.append(J_)\n",
    "        if verbose:\n",
    "            if (iter_+1) % 1000 == 0: print(\"{} iteration run...\".format(iter_))\n",
    "    return J, v, theta\n"
   ]
  },
  {
   "cell_type": "code",
   "execution_count": 12,
   "metadata": {},
   "outputs": [
    {
     "data": {
      "text/plain": [
       "(14, 5)"
      ]
     },
     "execution_count": 12,
     "metadata": {},
     "output_type": "execute_result"
    }
   ],
   "source": [
    "step(4, 4)"
   ]
  },
  {
   "cell_type": "code",
   "execution_count": 13,
   "metadata": {
    "scrolled": true
   },
   "outputs": [
    {
     "name": "stdout",
     "output_type": "stream",
     "text": [
      "[824840  56088 210755 778087 864087  65615 212912 718730 344414 931764]\n"
     ]
    }
   ],
   "source": [
    "NUM_SIMULATIONS = 10\n",
    "seeds = np.random.choice(1000000, NUM_SIMULATIONS)\n",
    "print(seeds)"
   ]
  },
  {
   "cell_type": "code",
   "execution_count": 14,
   "metadata": {
    "scrolled": false
   },
   "outputs": [
    {
     "data": {
      "image/png": "[encoded data removed]",
      "text/plain": [
       "<Figure size 432x288 with 1 Axes>"
      ]
     },
     "metadata": {
      "needs_background": "light"
     },
     "output_type": "display_data"
    },
    {
     "data": {
      "image/png": "[encoded data removed]",
      "text/plain": [
       "<Figure size 432x288 with 1 Axes>"
      ]
     },
     "metadata": {
      "needs_background": "light"
     },
     "output_type": "display_data"
    },
    {
     "data": {
      "image/png": "[encoded data removed]",
      "text/plain": [
       "<Figure size 432x288 with 1 Axes>"
      ]
     },
     "metadata": {
      "needs_background": "light"
     },
     "output_type": "display_data"
    },
    {
     "data": {
      "image/png": "[encoded data removed]",
      "text/plain": [
       "<Figure size 432x288 with 1 Axes>"
      ]
     },
     "metadata": {
      "needs_background": "light"
     },
     "output_type": "display_data"
    },
    {
     "data": {
      "image/png": "[encoded data removed]",
      "text/plain": [
       "<Figure size 432x288 with 1 Axes>"
      ]
     },
     "metadata": {
      "needs_background": "light"
     },
     "output_type": "display_data"
    },
    {
     "data": {
      "image/png": "[encoded data removed]",
      "text/plain": [
       "<Figure size 432x288 with 1 Axes>"
      ]
     },
     "metadata": {
      "needs_background": "light"
     },
     "output_type": "display_data"
    },
    {
     "data": {
      "image/png": "[encoded data removed]",
      "text/plain": [
       "<Figure size 432x288 with 1 Axes>"
      ]
     },
     "metadata": {
      "needs_background": "light"
     },
     "output_type": "display_data"
    },
    {
     "data": {
      "image/png": "[encoded data removed]",
      "text/plain": [
       "<Figure size 432x288 with 1 Axes>"
      ]
     },
     "metadata": {
      "needs_background": "light"
     },
     "output_type": "display_data"
    },
    {
     "data": {
      "image/png": "[encoded data removed]",
      "text/plain": [
       "<Figure size 432x288 with 1 Axes>"
      ]
     },
     "metadata": {
      "needs_background": "light"
     },
     "output_type": "display_data"
    },
    {
     "data": {
      "image/png": "[encoded data removed]",
      "text/plain": [
       "<Figure size 432x288 with 1 Axes>"
      ]
     },
     "metadata": {
      "needs_background": "light"
     },
     "output_type": "display_data"
    }
   ],
   "source": [
    "J_simulations = []\n",
    "for i in range(len(seeds)):\n",
    "    seed = seeds[i]\n",
    "    J, v, theta = algorithm1(seed=1234, iterations=10000, c=1, case=1, verbose=False)\n",
    "    J_simulations.append(J)\n",
    "    plt.figure(i)\n",
    "    plt.plot(J)\n",
    "    plt.xlabel('iterations')\n",
    "    plt.ylabel('J')\n",
    "    plt.title('J vs iterations, seed={}'.format(seed))"
   ]
  },
  {
   "cell_type": "code",
   "execution_count": 15,
   "metadata": {},
   "outputs": [],
   "source": [
    "J_simulations = np.array(J_simulations)"
   ]
  },
  {
   "cell_type": "code",
   "execution_count": 40,
   "metadata": {},
   "outputs": [
    {
     "data": {
      "text/plain": [
       "(10, 10001)"
      ]
     },
     "execution_count": 40,
     "metadata": {},
     "output_type": "execute_result"
    }
   ],
   "source": [
    "J_simulations.shape"
   ]
  },
  {
   "cell_type": "code",
   "execution_count": 43,
   "metadata": {},
   "outputs": [],
   "source": [
    "J_simulations = J_simulations[:, 1:]"
   ]
  },
  {
   "cell_type": "code",
   "execution_count": 44,
   "metadata": {},
   "outputs": [
    {
     "data": {
      "text/plain": [
       "(10, 10000)"
      ]
     },
     "execution_count": 44,
     "metadata": {},
     "output_type": "execute_result"
    }
   ],
   "source": [
    "J_simulations.shape"
   ]
  },
  {
   "cell_type": "code",
   "execution_count": 57,
   "metadata": {},
   "outputs": [
    {
     "data": {
      "text/html": [
       "<div>\n",
       "<style scoped>\n",
       "    .dataframe tbody tr th:only-of-type {\n",
       "        vertical-align: middle;\n",
       "    }\n",
       "\n",
       "    .dataframe tbody tr th {\n",
       "        vertical-align: top;\n",
       "    }\n",
       "\n",
       "    .dataframe thead th {\n",
       "        text-align: right;\n",
       "    }\n",
       "</style>\n",
       "<table border=\"1\" class=\"dataframe\">\n",
       "  <thead>\n",
       "    <tr style=\"text-align: right;\">\n",
       "      <th></th>\n",
       "      <th>Simulation</th>\n",
       "      <th>J_avg</th>\n",
       "      <th>J_std</th>\n",
       "    </tr>\n",
       "  </thead>\n",
       "  <tbody>\n",
       "    <tr>\n",
       "      <th>0</th>\n",
       "      <td>1</td>\n",
       "      <td>-0.190827</td>\n",
       "      <td>0.025424</td>\n",
       "    </tr>\n",
       "    <tr>\n",
       "      <th>1</th>\n",
       "      <td>2</td>\n",
       "      <td>-0.190827</td>\n",
       "      <td>0.025424</td>\n",
       "    </tr>\n",
       "    <tr>\n",
       "      <th>2</th>\n",
       "      <td>3</td>\n",
       "      <td>-0.190827</td>\n",
       "      <td>0.025424</td>\n",
       "    </tr>\n",
       "    <tr>\n",
       "      <th>3</th>\n",
       "      <td>4</td>\n",
       "      <td>-0.190827</td>\n",
       "      <td>0.025424</td>\n",
       "    </tr>\n",
       "    <tr>\n",
       "      <th>4</th>\n",
       "      <td>5</td>\n",
       "      <td>-0.190827</td>\n",
       "      <td>0.025424</td>\n",
       "    </tr>\n",
       "    <tr>\n",
       "      <th>5</th>\n",
       "      <td>6</td>\n",
       "      <td>-0.190827</td>\n",
       "      <td>0.025424</td>\n",
       "    </tr>\n",
       "    <tr>\n",
       "      <th>6</th>\n",
       "      <td>7</td>\n",
       "      <td>-0.190827</td>\n",
       "      <td>0.025424</td>\n",
       "    </tr>\n",
       "    <tr>\n",
       "      <th>7</th>\n",
       "      <td>8</td>\n",
       "      <td>-0.190827</td>\n",
       "      <td>0.025424</td>\n",
       "    </tr>\n",
       "    <tr>\n",
       "      <th>8</th>\n",
       "      <td>9</td>\n",
       "      <td>-0.190827</td>\n",
       "      <td>0.025424</td>\n",
       "    </tr>\n",
       "    <tr>\n",
       "      <th>9</th>\n",
       "      <td>10</td>\n",
       "      <td>-0.190827</td>\n",
       "      <td>0.025424</td>\n",
       "    </tr>\n",
       "  </tbody>\n",
       "</table>\n",
       "</div>"
      ],
      "text/plain": [
       "   Simulation     J_avg     J_std\n",
       "0           1 -0.190827  0.025424\n",
       "1           2 -0.190827  0.025424\n",
       "2           3 -0.190827  0.025424\n",
       "3           4 -0.190827  0.025424\n",
       "4           5 -0.190827  0.025424\n",
       "5           6 -0.190827  0.025424\n",
       "6           7 -0.190827  0.025424\n",
       "7           8 -0.190827  0.025424\n",
       "8           9 -0.190827  0.025424\n",
       "9          10 -0.190827  0.025424"
      ]
     },
     "execution_count": 57,
     "metadata": {},
     "output_type": "execute_result"
    }
   ],
   "source": [
    "pd.DataFrame({'Simulation': range(1, 11), 'J_avg': np.mean(J_simulations, axis=1), 'J_std': np.std(J_simulations, axis=1)})"
   ]
  },
  {
   "cell_type": "code",
   "execution_count": null,
   "metadata": {},
   "outputs": [],
   "source": []
  },
  {
   "cell_type": "markdown",
   "metadata": {},
   "source": [
    "### dry run"
   ]
  },
  {
   "cell_type": "code",
   "execution_count": 16,
   "metadata": {},
   "outputs": [
    {
     "name": "stdout",
     "output_type": "stream",
     "text": [
      "Simulate policy\n",
      "[0. 0. 1.]\n",
      "[0.16529618 0.21224449 0.27252732 0.34993201]\n"
     ]
    }
   ],
   "source": [
    "print(\"Simulate policy\")\n",
    "case = 1\n",
    "feature_matrix = np.array([state_action_feature(state, action, case) for state in range(1, 26) for action in range(1, 5) ]).reshape(25, 4, -1)\n",
    "# feature_matrix\n",
    "theta = np.zeros((3)) if case == 1 else np.zeros((6))\n",
    "theta[2] = 1\n",
    "print(theta)\n",
    "action, p = policy(3, theta, feature_matrix)\n",
    "print(p)"
   ]
  },
  {
   "cell_type": "code",
   "execution_count": 17,
   "metadata": {},
   "outputs": [
    {
     "data": {
      "text/plain": [
       "array([[1.  , 0.12, 0.25],\n",
       "       [1.  , 0.12, 0.5 ],\n",
       "       [1.  , 0.12, 0.75],\n",
       "       [1.  , 0.12, 1.  ]])"
      ]
     },
     "execution_count": 17,
     "metadata": {},
     "output_type": "execute_result"
    }
   ],
   "source": [
    "feature_matrix[2]"
   ]
  },
  {
   "cell_type": "code",
   "execution_count": 18,
   "metadata": {},
   "outputs": [
    {
     "data": {
      "text/plain": [
       "array([1.  , 0.12, 0.25])"
      ]
     },
     "execution_count": 18,
     "metadata": {},
     "output_type": "execute_result"
    }
   ],
   "source": [
    "state_action_feature(state=3, action=1, case=1)"
   ]
  },
  {
   "cell_type": "code",
   "execution_count": 19,
   "metadata": {
    "scrolled": true
   },
   "outputs": [
    {
     "name": "stdout",
     "output_type": "stream",
     "text": [
      "Simulate policy\n",
      "[0. 0. 1.]\n",
      "[0.16529618 0.21224449 0.27252732 0.34993201]\n",
      "[(4, 0.34713), (2, 0.2144), (3, 0.27175), (1, 0.16672)]\n",
      "[0. 0. 0. 1. 0. 0.]\n",
      "[0.16529618 0.21224449 0.27252732 0.34993201]\n",
      "[(4, 0.34738), (2, 0.21267), (1, 0.16811), (3, 0.27184)]\n"
     ]
    }
   ],
   "source": [
    "print(\"Simulate policy\")\n",
    "case = 1\n",
    "feature_matrix = np.array([state_action_feature(state, action, case) for state in range(1, 26) for action in range(1, 5) ]).reshape(25, 4, -1)\n",
    "# feature_matrix\n",
    "theta = np.zeros((3)) if case == 1 else np.zeros((6))\n",
    "theta[2] = 1\n",
    "print(theta)\n",
    "action, p = policy(1, theta, feature_matrix)\n",
    "print(p)\n",
    "\n",
    "runs=100000\n",
    "print([(k, v/runs) for (k, v) in Counter([policy(1, theta, feature_matrix)[0] for _ in range(runs)]).items()])\n",
    "\n",
    "case = 2\n",
    "feature_matrix = np.array([state_action_feature(state, action, case) for state in range(1, 26) for action in range(1, 5) ]).reshape(25, 4, -1)\n",
    "# feature_matrix\n",
    "theta = np.zeros((3)) if case == 1 else np.zeros((6))\n",
    "theta[3] = 1\n",
    "print(theta)\n",
    "_, p = policy(1, theta, feature_matrix)\n",
    "print(p)\n",
    "\n",
    "runs=100000\n",
    "print([(k, v/runs) for (k, v) in Counter([policy(1, theta, feature_matrix)[0] for _ in range(runs)]).items()])"
   ]
  },
  {
   "cell_type": "code",
   "execution_count": 20,
   "metadata": {},
   "outputs": [
    {
     "name": "stdout",
     "output_type": "stream",
     "text": [
      "Simulate step function\n",
      "state:  4 action:  d\n"
     ]
    },
    {
     "data": {
      "text/plain": [
       "(14, 5)"
      ]
     },
     "execution_count": 20,
     "metadata": {},
     "output_type": "execute_result"
    }
   ],
   "source": [
    "print(\"Simulate step function\")\n",
    "a = 4\n",
    "s = 4\n",
    "print('state: ', s , 'action: ', action_map[a])\n",
    "step(s, a)\n"
   ]
  },
  {
   "cell_type": "code",
   "execution_count": 21,
   "metadata": {},
   "outputs": [
    {
     "name": "stdout",
     "output_type": "stream",
     "text": [
      "[0.16]\n",
      "[0.56]\n"
     ]
    },
    {
     "data": {
      "text/plain": [
       "0.0"
      ]
     },
     "execution_count": 21,
     "metadata": {},
     "output_type": "execute_result"
    }
   ],
   "source": [
    "case = 1\n",
    "features = state_feature(1, case=1)\n",
    "v = np.zeros(1) if case == 1 else np.zeros(3)\n",
    "state = 4\n",
    "print(state_feature(state))\n",
    "action = 1\n",
    "next_state, reward = step(state, action)\n",
    "print(state_feature(next_state))\n",
    "np.dot(v, state_feature(next_state, case))"
   ]
  },
  {
   "cell_type": "code",
   "execution_count": 22,
   "metadata": {},
   "outputs": [
    {
     "name": "stdout",
     "output_type": "stream",
     "text": [
      "[0.04]\n"
     ]
    }
   ],
   "source": [
    "print(features)"
   ]
  },
  {
   "cell_type": "code",
   "execution_count": 23,
   "metadata": {},
   "outputs": [
    {
     "name": "stdout",
     "output_type": "stream",
     "text": [
      "[[1.]\n",
      " [1.]\n",
      " [1.]]\n",
      "[1.     0.16   0.0256]\n",
      "[1.     0.56   0.3136]\n"
     ]
    },
    {
     "data": {
      "text/plain": [
       "(1,)"
      ]
     },
     "execution_count": 23,
     "metadata": {},
     "output_type": "execute_result"
    }
   ],
   "source": [
    "case = 2\n",
    "features = state_feature(1, case=1)\n",
    "v = np.ones((1, 1)) if case == 1 else np.ones((3, 1))\n",
    "print(v)\n",
    "state = 4\n",
    "print(state_feature(state, case))\n",
    "action = 1\n",
    "next_state, reward = step(state, action)\n",
    "print(state_feature(next_state, case))\n",
    "np.matmul(state_feature(next_state, case), v).shape"
   ]
  },
  {
   "cell_type": "code",
   "execution_count": 24,
   "metadata": {},
   "outputs": [],
   "source": [
    "case = 1\n",
    "state = 1\n",
    "action = 1\n",
    "theta = np.zeros((3, 1)) if case == 1 else np.zeros((6, 1))\n",
    "X_state = np.array([state_feature(state, case) for state in range(1, 26)]).reshape(25, -1)\n",
    "X_state_action = np.array([state_action_feature(state, action, case) for state in range(1, 26) for action in range(1, 5) ]).reshape(25, 4, -1)\n"
   ]
  },
  {
   "cell_type": "code",
   "execution_count": 25,
   "metadata": {},
   "outputs": [
    {
     "data": {
      "text/plain": [
       "array([[0.],\n",
       "       [0.],\n",
       "       [0.]])"
      ]
     },
     "execution_count": 25,
     "metadata": {},
     "output_type": "execute_result"
    }
   ],
   "source": [
    "theta"
   ]
  },
  {
   "cell_type": "code",
   "execution_count": 26,
   "metadata": {},
   "outputs": [
    {
     "data": {
      "text/plain": [
       "(25, 1)"
      ]
     },
     "execution_count": 26,
     "metadata": {},
     "output_type": "execute_result"
    }
   ],
   "source": [
    "X_state.shape"
   ]
  },
  {
   "cell_type": "code",
   "execution_count": 27,
   "metadata": {},
   "outputs": [
    {
     "data": {
      "text/plain": [
       "array([0.04])"
      ]
     },
     "execution_count": 27,
     "metadata": {},
     "output_type": "execute_result"
    }
   ],
   "source": [
    "psi_ = X_state[state-1]\n",
    "psi_"
   ]
  },
  {
   "cell_type": "code",
   "execution_count": 28,
   "metadata": {},
   "outputs": [],
   "source": [
    "_, p = policy(state, theta, X_state_action)"
   ]
  },
  {
   "cell_type": "code",
   "execution_count": 29,
   "metadata": {},
   "outputs": [
    {
     "data": {
      "text/plain": [
       "array([0.25, 0.25, 0.25, 0.25])"
      ]
     },
     "execution_count": 29,
     "metadata": {},
     "output_type": "execute_result"
    }
   ],
   "source": [
    "p"
   ]
  },
  {
   "cell_type": "code",
   "execution_count": 30,
   "metadata": {},
   "outputs": [
    {
     "data": {
      "text/plain": [
       "array([[1.  , 0.04, 0.25],\n",
       "       [1.  , 0.04, 0.5 ],\n",
       "       [1.  , 0.04, 0.75],\n",
       "       [1.  , 0.04, 1.  ]])"
      ]
     },
     "execution_count": 30,
     "metadata": {},
     "output_type": "execute_result"
    }
   ],
   "source": [
    "X_state_action[state-1]"
   ]
  },
  {
   "cell_type": "code",
   "execution_count": 31,
   "metadata": {},
   "outputs": [],
   "source": [
    "theta = np.zeros(3) if case == 1 else np.zeros(6)\n",
    "action = 1\n",
    "p = np.exp(np.matmul(X_state_action[state-1], theta).reshape(-1)) / \\\n",
    "np.sum(np.exp(np.matmul(X_state_action[state-1], theta).reshape(-1)), keepdims=False)"
   ]
  },
  {
   "cell_type": "code",
   "execution_count": 32,
   "metadata": {},
   "outputs": [
    {
     "data": {
      "text/plain": [
       "array([0.25, 0.25, 0.25, 0.25])"
      ]
     },
     "execution_count": 32,
     "metadata": {},
     "output_type": "execute_result"
    }
   ],
   "source": [
    "p"
   ]
  },
  {
   "cell_type": "code",
   "execution_count": 33,
   "metadata": {},
   "outputs": [
    {
     "data": {
      "text/plain": [
       "(4, array([0.25, 0.25, 0.25, 0.25]))"
      ]
     },
     "execution_count": 33,
     "metadata": {},
     "output_type": "execute_result"
    }
   ],
   "source": [
    "policy(state, theta, X_state_action)"
   ]
  },
  {
   "cell_type": "code",
   "execution_count": 34,
   "metadata": {},
   "outputs": [
    {
     "data": {
      "text/plain": [
       "array([ 0.   ,  0.   , -0.375])"
      ]
     },
     "execution_count": 34,
     "metadata": {},
     "output_type": "execute_result"
    }
   ],
   "source": [
    "psi(state, action, theta, X_state_action, case)"
   ]
  },
  {
   "cell_type": "code",
   "execution_count": 35,
   "metadata": {},
   "outputs": [
    {
     "name": "stdout",
     "output_type": "stream",
     "text": [
      "[0.25 0.25 0.25 0.25] (4,)\n",
      "[[1.   0.04 0.25]\n",
      " [1.   0.04 0.5 ]\n",
      " [1.   0.04 0.75]\n",
      " [1.   0.04 1.  ]] (4, 3)\n"
     ]
    }
   ],
   "source": [
    "# def psi(state, action, theta, X_state_action, case=1):\n",
    "psi_ = X_state_action[state-1][action-1]\n",
    "_, p = policy(state, theta, X_state_action)\n",
    "print(p, p.shape)\n",
    "print(X_state_action[state-1], X_state_action[state-1].shape)\n",
    "psi_ = psi_ - np.dot(p, X_state_action[state-1])\n",
    "        "
   ]
  },
  {
   "cell_type": "code",
   "execution_count": 36,
   "metadata": {},
   "outputs": [
    {
     "data": {
      "text/plain": [
       "array([1.  , 0.04, 0.25])"
      ]
     },
     "execution_count": 36,
     "metadata": {},
     "output_type": "execute_result"
    }
   ],
   "source": [
    "X_state_action[state-1][action-1]"
   ]
  },
  {
   "cell_type": "code",
   "execution_count": 37,
   "metadata": {},
   "outputs": [
    {
     "data": {
      "text/plain": [
       "array([0.25, 0.25, 0.25, 0.25])"
      ]
     },
     "execution_count": 37,
     "metadata": {},
     "output_type": "execute_result"
    }
   ],
   "source": [
    "p"
   ]
  },
  {
   "cell_type": "code",
   "execution_count": 38,
   "metadata": {},
   "outputs": [
    {
     "data": {
      "text/plain": [
       "array([1.   , 0.04 , 0.625])"
      ]
     },
     "execution_count": 38,
     "metadata": {},
     "output_type": "execute_result"
    }
   ],
   "source": [
    "np.dot(p, X_state_action[state-1])"
   ]
  },
  {
   "cell_type": "code",
   "execution_count": 39,
   "metadata": {},
   "outputs": [
    {
     "data": {
      "text/plain": [
       "array([ 0.   ,  0.   , -0.375])"
      ]
     },
     "execution_count": 39,
     "metadata": {},
     "output_type": "execute_result"
    }
   ],
   "source": [
    "psi_"
   ]
  },
  {
   "cell_type": "code",
   "execution_count": null,
   "metadata": {},
   "outputs": [],
   "source": []
  }
 ],
 "metadata": {
  "kernelspec": {
   "display_name": "Python 3",
   "language": "python",
   "name": "python3"
  },
  "language_info": {
   "codemirror_mode": {
    "name": "ipython",
    "version": 3
   },
   "file_extension": ".py",
   "mimetype": "text/x-python",
   "name": "python",
   "nbconvert_exporter": "python",
   "pygments_lexer": "ipython3",
   "version": "3.7.4"
  }
 },
 "nbformat": 4,
 "nbformat_minor": 2
}
